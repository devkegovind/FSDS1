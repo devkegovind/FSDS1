{
 "cells": [
  {
   "cell_type": "markdown",
   "metadata": {},
   "source": [
    "<h1 style:align='center'><b>DEEP LEARNING</b></h1>"
   ]
  },
  {
   "cell_type": "markdown",
   "metadata": {},
   "source": [
    "Deep learning is a subfield of machine learning that focuses on training artificial neural networks to learn and make predictions or decisions based on input data. It is inspired by the structure and function of the human brain and is designed to simulate the learning process of neurons.\n",
    "\n",
    "In traditional machine learning approaches, engineers and data scientists manually design features and algorithms to solve specific tasks. However, deep learning automates this feature engineering process by allowing the model to learn hierarchical representations of the data directly from raw input. This is achieved by using artificial neural networks with multiple layers, hence the term \"deep\" learning.\n",
    "\n",
    "Deep learning models are composed of interconnected nodes called artificial neurons or \"units.\" These units are organized into layers, where each layer receives input from the previous layer and passes its output to the next layer. The layers are typically divided into an input layer, one or more hidden layers, and an output layer. The hidden layers are responsible for learning complex representations of the data, while the output layer produces the final prediction or decision.\n",
    "\n",
    "During the training process, deep learning models are exposed to labeled data, and the weights and biases of the connections between units are adjusted iteratively to minimize the difference between the predicted output and the true output. This optimization process is typically performed using variants of stochastic gradient descent, which calculates the gradients of the model's parameters with respect to a loss function.\n",
    "\n",
    "Deep learning has achieved remarkable success in various domains, including computer vision, natural language processing, speech recognition, and robotics. Notable applications include image classification, object detection, machine translation, sentiment analysis, recommendation systems, and autonomous driving.\n",
    "\n",
    "Some popular deep learning architectures include convolutional neural networks (CNNs) for image analysis, recurrent neural networks (RNNs) for sequence data, and transformer models for natural language processing tasks. These architectures, combined with large-scale datasets and powerful hardware, have contributed to significant advancements in artificial intelligence and have revolutionized many industries.\n",
    "\n",
    "\n",
    "### Deep learning terminologies:\n",
    "\n",
    "1. Artificial Neural Network (ANN): A computational model inspired by the structure and function of biological neural networks. ANNs consist of interconnected nodes (artificial neurons) that transmit and process information.\n",
    "\n",
    "2. Deep Neural Network (DNN): A type of artificial neural network with multiple layers between the input and output layers. DNNs are capable of learning complex representations of data.\n",
    "\n",
    "3. Convolutional Neural Network (CNN): A specialized type of deep neural network commonly used for image and video analysis. CNNs utilize convolutional layers to automatically extract spatial hierarchies of features from input data.\n",
    "\n",
    "4. Recurrent Neural Network (RNN): A type of deep neural network that processes sequential data by using feedback connections. RNNs have memory capabilities, enabling them to capture temporal dependencies in the data.\n",
    "\n",
    "5. Long Short-Term Memory (LSTM): A type of recurrent neural network designed to address the vanishing gradient problem. LSTMs have memory cells and gating mechanisms that allow them to capture long-term dependencies in sequential data.\n",
    "\n",
    "6. Generative Adversarial Network (GAN): A framework that consists of two neural networks: a generator network and a discriminator network. GANs are used for generating synthetic data that resembles real data by training the generator to fool the discriminator.\n",
    "\n",
    "7. Autoencoder: A type of neural network used for unsupervised learning and dimensionality reduction. Autoencoders consist of an encoder network that compresses the input data into a latent representation and a decoder network that reconstructs the input data from the latent representation.\n",
    "\n",
    "8. Transfer Learning: A technique in which a pre-trained neural network is used as a starting point for a new task. By leveraging the knowledge learned from a large dataset, transfer learning can accelerate training and improve performance on new, smaller datasets.\n",
    "\n",
    "9. Activation Function: A mathematical function applied to the output of a neuron in a neural network. Activation functions introduce non-linearity, enabling neural networks to model complex relationships in the data. Examples include sigmoid, tanh, and ReLU (Rectified Linear Unit).\n",
    "\n",
    "10. Loss Function: A function that measures the difference between the predicted output of a neural network and the true output. The loss function guides the optimization process during training, helping the network to adjust its parameters to minimize the error.\n",
    "\n",
    "These are just a few examples of the many terminologies used in the field of deep learning. The field is evolving rapidly, so new terminologies and techniques are constantly emerging."
   ]
  },
  {
   "cell_type": "markdown",
   "metadata": {},
   "source": [
    "<h3 style=align:'center'><b>Artificial Neural Network[ANN]</b></h3>\n",
    "\n",
    "In the context of deep learning, \"ANN\" typically stands for Artificial Neural Network. Artificial Neural Networks are a fundamental concept in the field of deep learning, inspired by the structure and functioning of biological neural networks in the human brain.\n",
    "\n",
    "Artificial Neural Networks are composed of interconnected artificial neurons or nodes, organized in layers. The layers are usually classified as input, hidden, and output layers. Information flows through the network in a feedforward manner, with the input layer receiving the data, passing it through the hidden layers, and producing an output in the output layer.\n",
    "\n",
    "Each artificial neuron in an ANN performs a weighted sum of its inputs, applies an activation function to the sum, and then passes the result to the next layer. The weights associated with each input are learned during the training process, where the network is trained on labeled data to minimize a specified loss function.\n",
    "\n",
    "Deep learning refers to the use of deep neural networks, which are ANNs with multiple hidden layers. Deep neural networks have shown remarkable success in various tasks such as image recognition, natural language processing, speech recognition, and more.\n",
    "\n",
    "Overall, ANNs play a central role in deep learning, enabling the model to learn complex representations and extract useful features from raw data, leading to powerful predictive and decision-making capabilities."
   ]
  },
  {
   "cell_type": "markdown",
   "metadata": {},
   "source": [
    "<h3><b>Terminology in ANN</b></h3>\n",
    "\n",
    "Sure! Here are some common terminologies associated with Artificial Neural Networks (ANNs):\n",
    "\n",
    "1. Neuron/Node: It represents a basic processing unit in an ANN, which receives input, performs computations, and produces an output.\n",
    "\n",
    "2. Layer: A layer is a collection of neurons or nodes that process inputs and produce outputs. ANNs typically consist of an input layer, one or more hidden layers, and an output layer.\n",
    "\n",
    "3. Input Layer: The input layer receives input data and passes it to the subsequent layers for processing. It does not perform any computations.\n",
    "\n",
    "4. Hidden Layer: Hidden layers are intermediate layers between the input and output layers. They perform computations on the inputs received from the previous layer.\n",
    "\n",
    "5. Output Layer: The output layer produces the final output or prediction of the neural network. The number of nodes in the output layer depends on the specific task, such as binary classification (1 node) or multi-class classification (multiple nodes).\n",
    "\n",
    "6. Activation Function: An activation function determines the output of a neuron based on its input. Common activation functions include sigmoid, tanh, ReLU (Rectified Linear Unit), and softmax.\n",
    "\n",
    "7. Weight: Each connection between neurons in different layers has an associated weight. The weights represent the strength of the connection and are adjusted during the training process to optimize the network's performance.\n",
    "\n",
    "8. Bias: Bias is an additional parameter in each neuron that helps shift the activation function's output. It allows the network to model more complex relationships between inputs and outputs.\n",
    "\n",
    "9. Forward Propagation: It is the process of passing input data through the network to compute the output. During forward propagation, each neuron performs a weighted sum of its inputs, applies an activation function, and passes the result to the next layer.\n",
    "\n",
    "10. Backpropagation: Backpropagation is a key algorithm for training neural networks. It involves calculating the gradient of the loss function with respect to the weights and biases of the network, and using that information to update the weights and biases in the opposite direction of the gradient.\n",
    "\n",
    "11. Loss Function: The loss function measures the difference between the predicted output and the true output. It quantifies the performance of the network during training and guides the adjustment of the weights and biases.\n",
    "\n",
    "12. Training: Training refers to the process of optimizing the neural network's weights and biases by exposing it to a labeled dataset and adjusting the parameters to minimize the loss function.\n",
    "\n",
    "13. Validation: Validation is a step during training where a separate dataset, not used for training, is used to evaluate the model's performance and tune hyperparameters.\n",
    "\n",
    "14. Test Set: The test set is a dataset that is completely independent of the training and validation sets. It is used to evaluate the final performance of the trained model.\n",
    "\n",
    "These are some of the fundamental terms used in the context of Artificial Neural Networks. Understanding these terminologies will help you grasp the concepts and developments in the field of deep learning.\n"
   ]
  },
  {
   "cell_type": "code",
   "execution_count": 44,
   "metadata": {},
   "outputs": [],
   "source": [
    "import numpy as np"
   ]
  },
  {
   "cell_type": "code",
   "execution_count": 45,
   "metadata": {},
   "outputs": [],
   "source": [
    "X = [[0,0,0],\n",
    "     [0,0,1],\n",
    "     [0,1,0],\n",
    "     [0,1,1],\n",
    "     [1,0,0],\n",
    "     [1,0,1],\n",
    "     [1,1,1],\n",
    "     [1,1,0]]"
   ]
  },
  {
   "cell_type": "code",
   "execution_count": 46,
   "metadata": {},
   "outputs": [
    {
     "data": {
      "text/plain": [
       "[[0, 0, 0],\n",
       " [0, 0, 1],\n",
       " [0, 1, 0],\n",
       " [0, 1, 1],\n",
       " [1, 0, 0],\n",
       " [1, 0, 1],\n",
       " [1, 1, 1],\n",
       " [1, 1, 0]]"
      ]
     },
     "execution_count": 46,
     "metadata": {},
     "output_type": "execute_result"
    }
   ],
   "source": [
    "X"
   ]
  },
  {
   "cell_type": "code",
   "execution_count": 47,
   "metadata": {},
   "outputs": [],
   "source": [
    "y = [[0],[1],[0],[0],[1],[1],[0],[1]]"
   ]
  },
  {
   "cell_type": "markdown",
   "metadata": {},
   "source": [
    "Converting into Array"
   ]
  },
  {
   "cell_type": "code",
   "execution_count": 48,
   "metadata": {},
   "outputs": [],
   "source": [
    "X = np.array(X)\n",
    "ya = np.array(y)"
   ]
  },
  {
   "cell_type": "code",
   "execution_count": 49,
   "metadata": {},
   "outputs": [
    {
     "data": {
      "text/plain": [
       "(8, 3)"
      ]
     },
     "execution_count": 49,
     "metadata": {},
     "output_type": "execute_result"
    }
   ],
   "source": [
    "X.shape"
   ]
  },
  {
   "cell_type": "code",
   "execution_count": 50,
   "metadata": {},
   "outputs": [
    {
     "data": {
      "text/plain": [
       "(8, 1)"
      ]
     },
     "execution_count": 50,
     "metadata": {},
     "output_type": "execute_result"
    }
   ],
   "source": [
    "ya.shape"
   ]
  },
  {
   "cell_type": "code",
   "execution_count": 51,
   "metadata": {},
   "outputs": [],
   "source": [
    "def sigmoid(a):\n",
    "    return 1/(1+np.exp(-a))"
   ]
  },
  {
   "cell_type": "code",
   "execution_count": 52,
   "metadata": {},
   "outputs": [
    {
     "data": {
      "text/plain": [
       "0.5"
      ]
     },
     "execution_count": 52,
     "metadata": {},
     "output_type": "execute_result"
    }
   ],
   "source": [
    "sigmoid(0)"
   ]
  },
  {
   "cell_type": "code",
   "execution_count": 53,
   "metadata": {},
   "outputs": [],
   "source": [
    "W = np.random.rand(3,1)"
   ]
  },
  {
   "cell_type": "code",
   "execution_count": 54,
   "metadata": {},
   "outputs": [
    {
     "data": {
      "text/plain": [
       "array([[0.00943654],\n",
       "       [0.11003711],\n",
       "       [0.69897851]])"
      ]
     },
     "execution_count": 54,
     "metadata": {},
     "output_type": "execute_result"
    }
   ],
   "source": [
    "W"
   ]
  },
  {
   "cell_type": "code",
   "execution_count": 55,
   "metadata": {},
   "outputs": [],
   "source": [
    "for epoch in range(10):\n",
    "    yp = sigmoid(np.dot(X, W))\n",
    "    dw = 2*np.dot(X.T, (yp-ya))\n",
    "    W = W - dw  "
   ]
  },
  {
   "cell_type": "code",
   "execution_count": 56,
   "metadata": {},
   "outputs": [
    {
     "data": {
      "text/plain": [
       "array([[ 5.15773757],\n",
       "       [-3.71234845],\n",
       "       [ 0.55971162]])"
      ]
     },
     "execution_count": 56,
     "metadata": {},
     "output_type": "execute_result"
    }
   ],
   "source": [
    "W"
   ]
  },
  {
   "cell_type": "code",
   "execution_count": 57,
   "metadata": {},
   "outputs": [
    {
     "data": {
      "text/plain": [
       "array([[0.],\n",
       "       [0.],\n",
       "       [0.],\n",
       "       [0.],\n",
       "       [1.],\n",
       "       [1.],\n",
       "       [0.],\n",
       "       [0.]])"
      ]
     },
     "execution_count": 57,
     "metadata": {},
     "output_type": "execute_result"
    }
   ],
   "source": [
    "np.round(yp)"
   ]
  },
  {
   "cell_type": "code",
   "execution_count": 58,
   "metadata": {},
   "outputs": [
    {
     "data": {
      "text/plain": [
       "array([[0.23281917],\n",
       "       [0.99901024],\n",
       "       [0.140107  ],\n",
       "       [0.78539299],\n",
       "       [0.21264508],\n",
       "       [0.64175678],\n",
       "       [0.99450212],\n",
       "       [0.64090049],\n",
       "       [0.95537065],\n",
       "       [0.16156362],\n",
       "       [0.57365924],\n",
       "       [0.5184079 ],\n",
       "       [0.6972281 ],\n",
       "       [0.2330346 ],\n",
       "       [0.93355478],\n",
       "       [0.76232682],\n",
       "       [0.93428212],\n",
       "       [0.18266432],\n",
       "       [0.68125311],\n",
       "       [0.78840648],\n",
       "       [0.50204642],\n",
       "       [0.20458158],\n",
       "       [0.51326801],\n",
       "       [0.26119764],\n",
       "       [0.96975074],\n",
       "       [0.26442246],\n",
       "       [0.68414817],\n",
       "       [0.04136241],\n",
       "       [0.90476727],\n",
       "       [0.08079   ],\n",
       "       [0.14098411],\n",
       "       [0.6783151 ],\n",
       "       [0.30297503],\n",
       "       [0.55837135],\n",
       "       [0.23055732],\n",
       "       [0.4502798 ],\n",
       "       [0.33567506],\n",
       "       [0.42277442],\n",
       "       [0.39417533],\n",
       "       [0.86793554],\n",
       "       [0.57205048],\n",
       "       [0.84002358],\n",
       "       [0.52304354],\n",
       "       [0.44150004],\n",
       "       [0.18994451],\n",
       "       [0.38143248],\n",
       "       [0.23554981],\n",
       "       [0.76513914],\n",
       "       [0.80377587],\n",
       "       [0.47879017]])"
      ]
     },
     "execution_count": 58,
     "metadata": {},
     "output_type": "execute_result"
    }
   ],
   "source": [
    "X1 = np.random.rand(50,1)\n",
    "X1"
   ]
  },
  {
   "cell_type": "code",
   "execution_count": 59,
   "metadata": {},
   "outputs": [],
   "source": [
    "y1 = 5 * X1 + 2 + np.random.randn(50,1)"
   ]
  },
  {
   "cell_type": "code",
   "execution_count": 60,
   "metadata": {},
   "outputs": [
    {
     "data": {
      "text/plain": [
       "array([[4.08384544],\n",
       "       [5.74272406],\n",
       "       [1.54466136],\n",
       "       [5.34257459],\n",
       "       [1.41603341],\n",
       "       [5.03528973],\n",
       "       [8.03317981],\n",
       "       [3.9287997 ],\n",
       "       [6.08128834],\n",
       "       [2.83421994],\n",
       "       [3.0111863 ],\n",
       "       [3.97391733],\n",
       "       [5.25678902],\n",
       "       [3.21578375],\n",
       "       [6.2134882 ],\n",
       "       [5.66413749],\n",
       "       [5.77937067],\n",
       "       [2.62651156],\n",
       "       [5.82687196],\n",
       "       [6.81122053],\n",
       "       [4.02692569],\n",
       "       [1.9686765 ],\n",
       "       [5.79966598],\n",
       "       [2.59780433],\n",
       "       [6.33492159],\n",
       "       [3.54343215],\n",
       "       [6.22766317],\n",
       "       [1.03588223],\n",
       "       [6.89556414],\n",
       "       [4.8314435 ],\n",
       "       [1.74451804],\n",
       "       [5.40677451],\n",
       "       [2.9261498 ],\n",
       "       [2.54965594],\n",
       "       [1.83717163],\n",
       "       [4.25666325],\n",
       "       [3.84903951],\n",
       "       [4.95842646],\n",
       "       [4.52904054],\n",
       "       [5.29866169],\n",
       "       [2.88662091],\n",
       "       [6.69669302],\n",
       "       [4.57648257],\n",
       "       [4.41008015],\n",
       "       [0.94785976],\n",
       "       [4.17727756],\n",
       "       [4.47735252],\n",
       "       [7.84872147],\n",
       "       [6.62339086],\n",
       "       [4.28660576]])"
      ]
     },
     "execution_count": 60,
     "metadata": {},
     "output_type": "execute_result"
    }
   ],
   "source": [
    "y1"
   ]
  },
  {
   "cell_type": "code",
   "execution_count": 61,
   "metadata": {},
   "outputs": [],
   "source": [
    "import matplotlib.pyplot as plt"
   ]
  },
  {
   "cell_type": "code",
   "execution_count": 62,
   "metadata": {},
   "outputs": [
    {
     "data": {
      "text/plain": [
       "<matplotlib.collections.PathCollection at 0x1c3a57b25d0>"
      ]
     },
     "execution_count": 62,
     "metadata": {},
     "output_type": "execute_result"
    },
    {
     "data": {
      "image/png": "[encoded data removed]",
      "text/plain": [
       "<Figure size 640x480 with 1 Axes>"
      ]
     },
     "metadata": {},
     "output_type": "display_data"
    }
   ],
   "source": [
    "plt.scatter(X1, y1)"
   ]
  },
  {
   "cell_type": "code",
   "execution_count": 119,
   "metadata": {},
   "outputs": [],
   "source": [
    "W1 = np.random.rand(1,1) # single weight\n",
    "b = 0 # single bias\n",
    "cost = []\n",
    "learning_rate = 0.01\n",
    "for epoch in range(100):\n",
    "    cost.append(np.sum((yp1 - y1)**2)/50)\n",
    "    yp1 = np.dot(X1, W1) + b # Linear Regression\n",
    "    dw1 = np.dot(X1.T, (yp1 - y1))\n",
    "    db = np.sum(yp1 - y1)\n",
    "    b = b - db*learning_rate\n",
    "    W1 = W1 - dw1*learning_rate"
   ]
  },
  {
   "cell_type": "code",
   "execution_count": 120,
   "metadata": {},
   "outputs": [
    {
     "data": {
      "text/plain": [
       "array([[5.08930973]])"
      ]
     },
     "execution_count": 120,
     "metadata": {},
     "output_type": "execute_result"
    }
   ],
   "source": [
    "W1"
   ]
  },
  {
   "cell_type": "code",
   "execution_count": 121,
   "metadata": {},
   "outputs": [
    {
     "data": {
      "text/plain": [
       "1.7460153702112284"
      ]
     },
     "execution_count": 121,
     "metadata": {},
     "output_type": "execute_result"
    }
   ],
   "source": [
    "b"
   ]
  },
  {
   "cell_type": "code",
   "execution_count": 122,
   "metadata": {},
   "outputs": [
    {
     "data": {
      "text/plain": [
       "[<matplotlib.lines.Line2D at 0x1c3a694a810>]"
      ]
     },
     "execution_count": 122,
     "metadata": {},
     "output_type": "execute_result"
    },
    {
     "data": {
      "image/png": "[encoded data removed]",
      "text/plain": [
       "<Figure size 640x480 with 1 Axes>"
      ]
     },
     "metadata": {},
     "output_type": "display_data"
    }
   ],
   "source": [
    "plt.plot(cost)"
   ]
  },
  {
   "cell_type": "code",
   "execution_count": 123,
   "metadata": {},
   "outputs": [
    {
     "data": {
      "text/plain": [
       "[18.13494277558004,\n",
       " 3.5991871160583644,\n",
       " 1.7420913003111052,\n",
       " 1.4833883685342988,\n",
       " 1.4274744795181398,\n",
       " 1.39849144276065,\n",
       " 1.3742078365063717,\n",
       " 1.3517457830715336,\n",
       " 1.3306695415567535,\n",
       " 1.31085531484054,\n",
       " 1.2922227009914338,\n",
       " 1.2747006259928295,\n",
       " 1.2582228229300003,\n",
       " 1.2427270461407753,\n",
       " 1.2281547686693206,\n",
       " 1.2144509527220324,\n",
       " 1.2015638407269262,\n",
       " 1.1894447597171889,\n",
       " 1.178047937482672,\n",
       " 1.167330329692009,\n",
       " 1.1572514573194408,\n",
       " 1.1477732537607126,\n",
       " 1.1388599210603993,\n",
       " 1.1304777947076357,\n",
       " 1.1225952164895892,\n",
       " 1.1151824149224618,\n",
       " 1.1082113928084287,\n",
       " 1.10165582149382,\n",
       " 1.0954909414291871,\n",
       " 1.0896934686556679,\n",
       " 1.08424150686447,\n",
       " 1.0791144646973292,\n",
       " 1.0742929779755996,\n",
       " 1.069758836564241,\n",
       " 1.0654949155944815,\n",
       " 1.061485110785393,\n",
       " 1.0577142776200927,\n",
       " 1.0541681741468514,\n",
       " 1.050833407189074,\n",
       " 1.0476973817609947,\n",
       " 1.044748253498037,\n",
       " 1.0419748839221714,\n",
       " 1.0393667983733175,\n",
       " 1.0369141464478995,\n",
       " 1.0346076647951419,\n",
       " 1.0324386421305811,\n",
       " 1.0303988863346698,\n",
       " 1.0284806935121902,\n",
       " 1.026676818895637,\n",
       " 1.0249804494826609,\n",
       " 1.0233851783042356,\n",
       " 1.0218849802263588,\n",
       " 1.0204741891938984,\n",
       " 1.0191474768306306,\n",
       " 1.0178998323146466,\n",
       " 1.0167265434531259,\n",
       " 1.0156231788849868,\n",
       " 1.0145855713442096,\n",
       " 1.0136098019206055,\n",
       " 1.012692185258599,\n",
       " 1.0118292556381143,\n",
       " 1.0110177538849943,\n",
       " 1.010254615061521,\n",
       " 1.0095369568905403,\n",
       " 1.00886206886947,\n",
       " 1.0082274020330824,\n",
       " 1.0076305593263897,\n",
       " 1.007069286551275,\n",
       " 1.0065414638526777,\n",
       " 1.0060450977121718,\n",
       " 1.005578313418704,\n",
       " 1.0051393479880533,\n",
       " 1.004726543504262,\n",
       " 1.0043383408579047,\n",
       " 1.0039732738575298,\n",
       " 1.0036299636920452,\n",
       " 1.003307113723124,\n",
       " 1.00300350458797,\n",
       " 1.0027179895939402,\n",
       " 1.0024494903876353,\n",
       " 1.0021969928820966,\n",
       " 1.001959543426731,\n",
       " 1.001736245205494,\n",
       " 1.0015262548497335,\n",
       " 1.0013287792528915,\n",
       " 1.0011430725750445,\n",
       " 1.0009684334259628,\n",
       " 1.0008042022160484,\n",
       " 1.0006497586651506,\n",
       " 1.000504519459848,\n",
       " 1.000367936050347,\n",
       " 1.0002394925786826,\n",
       " 1.0001187039303872,\n",
       " 1.000005113902276,\n",
       " 0.9998982934794272,\n",
       " 0.9997978392148464,\n",
       " 0.9997033717056999,\n",
       " 0.9996145341603598,\n",
       " 0.9995309910508463]"
      ]
     },
     "execution_count": 123,
     "metadata": {},
     "output_type": "execute_result"
    }
   ],
   "source": [
    "cost[1:]"
   ]
  },
  {
   "cell_type": "code",
   "execution_count": null,
   "metadata": {},
   "outputs": [],
   "source": []
  }
 ],
 "metadata": {
  "kernelspec": {
   "display_name": "Python 3",
   "language": "python",
   "name": "python3"
  },
  "language_info": {
   "codemirror_mode": {
    "name": "ipython",
    "version": 3
   },
   "file_extension": ".py",
   "mimetype": "text/x-python",
   "name": "python",
   "nbconvert_exporter": "python",
   "pygments_lexer": "ipython3",
   "version": "3.11.0"
  },
  "orig_nbformat": 4
 },
 "nbformat": 4,
 "nbformat_minor": 2
}
