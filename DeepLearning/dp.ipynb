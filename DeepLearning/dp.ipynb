{
 "cells": [
  {
   "cell_type": "markdown",
   "metadata": {},
   "source": [
    "<h1 style:align='center'><b>DEEP LEARNING</b></h1>"
   ]
  },
  {
   "cell_type": "markdown",
   "metadata": {},
   "source": [
    "Deep learning is a subfield of machine learning that focuses on training artificial neural networks to learn and make predictions or decisions based on input data. It is inspired by the structure and function of the human brain and is designed to simulate the learning process of neurons.\n",
    "\n",
    "In traditional machine learning approaches, engineers and data scientists manually design features and algorithms to solve specific tasks. However, deep learning automates this feature engineering process by allowing the model to learn hierarchical representations of the data directly from raw input. This is achieved by using artificial neural networks with multiple layers, hence the term \"deep\" learning.\n",
    "\n",
    "Deep learning models are composed of interconnected nodes called artificial neurons or \"units.\" These units are organized into layers, where each layer receives input from the previous layer and passes its output to the next layer. The layers are typically divided into an input layer, one or more hidden layers, and an output layer. The hidden layers are responsible for learning complex representations of the data, while the output layer produces the final prediction or decision.\n",
    "\n",
    "During the training process, deep learning models are exposed to labeled data, and the weights and biases of the connections between units are adjusted iteratively to minimize the difference between the predicted output and the true output. This optimization process is typically performed using variants of stochastic gradient descent, which calculates the gradients of the model's parameters with respect to a loss function.\n",
    "\n",
    "Deep learning has achieved remarkable success in various domains, including computer vision, natural language processing, speech recognition, and robotics. Notable applications include image classification, object detection, machine translation, sentiment analysis, recommendation systems, and autonomous driving.\n",
    "\n",
    "Some popular deep learning architectures include convolutional neural networks (CNNs) for image analysis, recurrent neural networks (RNNs) for sequence data, and transformer models for natural language processing tasks. These architectures, combined with large-scale datasets and powerful hardware, have contributed to significant advancements in artificial intelligence and have revolutionized many industries.\n",
    "\n",
    "\n",
    "### Deep learning terminologies:\n",
    "\n",
    "1. Artificial Neural Network (ANN): A computational model inspired by the structure and function of biological neural networks. ANNs consist of interconnected nodes (artificial neurons) that transmit and process information.\n",
    "\n",
    "2. Deep Neural Network (DNN): A type of artificial neural network with multiple layers between the input and output layers. DNNs are capable of learning complex representations of data.\n",
    "\n",
    "3. Convolutional Neural Network (CNN): A specialized type of deep neural network commonly used for image and video analysis. CNNs utilize convolutional layers to automatically extract spatial hierarchies of features from input data.\n",
    "\n",
    "4. Recurrent Neural Network (RNN): A type of deep neural network that processes sequential data by using feedback connections. RNNs have memory capabilities, enabling them to capture temporal dependencies in the data.\n",
    "\n",
    "5. Long Short-Term Memory (LSTM): A type of recurrent neural network designed to address the vanishing gradient problem. LSTMs have memory cells and gating mechanisms that allow them to capture long-term dependencies in sequential data.\n",
    "\n",
    "6. Generative Adversarial Network (GAN): A framework that consists of two neural networks: a generator network and a discriminator network. GANs are used for generating synthetic data that resembles real data by training the generator to fool the discriminator.\n",
    "\n",
    "7. Autoencoder: A type of neural network used for unsupervised learning and dimensionality reduction. Autoencoders consist of an encoder network that compresses the input data into a latent representation and a decoder network that reconstructs the input data from the latent representation.\n",
    "\n",
    "8. Transfer Learning: A technique in which a pre-trained neural network is used as a starting point for a new task. By leveraging the knowledge learned from a large dataset, transfer learning can accelerate training and improve performance on new, smaller datasets.\n",
    "\n",
    "9. Activation Function: A mathematical function applied to the output of a neuron in a neural network. Activation functions introduce non-linearity, enabling neural networks to model complex relationships in the data. Examples include sigmoid, tanh, and ReLU (Rectified Linear Unit).\n",
    "\n",
    "10. Loss Function: A function that measures the difference between the predicted output of a neural network and the true output. The loss function guides the optimization process during training, helping the network to adjust its parameters to minimize the error.\n",
    "\n",
    "These are just a few examples of the many terminologies used in the field of deep learning. The field is evolving rapidly, so new terminologies and techniques are constantly emerging."
   ]
  },
  {
   "cell_type": "markdown",
   "metadata": {},
   "source": [
    "<h3 style=align:'center'><b>Artificial Neural Network[ANN]</b></h3>\n",
    "\n",
    "In the context of deep learning, \"ANN\" typically stands for Artificial Neural Network. Artificial Neural Networks are a fundamental concept in the field of deep learning, inspired by the structure and functioning of biological neural networks in the human brain.\n",
    "\n",
    "Artificial Neural Networks are composed of interconnected artificial neurons or nodes, organized in layers. The layers are usually classified as input, hidden, and output layers. Information flows through the network in a feedforward manner, with the input layer receiving the data, passing it through the hidden layers, and producing an output in the output layer.\n",
    "\n",
    "Each artificial neuron in an ANN performs a weighted sum of its inputs, applies an activation function to the sum, and then passes the result to the next layer. The weights associated with each input are learned during the training process, where the network is trained on labeled data to minimize a specified loss function.\n",
    "\n",
    "Deep learning refers to the use of deep neural networks, which are ANNs with multiple hidden layers. Deep neural networks have shown remarkable success in various tasks such as image recognition, natural language processing, speech recognition, and more.\n",
    "\n",
    "Overall, ANNs play a central role in deep learning, enabling the model to learn complex representations and extract useful features from raw data, leading to powerful predictive and decision-making capabilities."
   ]
  },
  {
   "cell_type": "markdown",
   "metadata": {},
   "source": [
    "<h3><b>Terminology in ANN</b></h3>\n",
    "\n",
    "Sure! Here are some common terminologies associated with Artificial Neural Networks (ANNs):\n",
    "\n",
    "1. Neuron/Node: It represents a basic processing unit in an ANN, which receives input, performs computations, and produces an output.\n",
    "\n",
    "2. Layer: A layer is a collection of neurons or nodes that process inputs and produce outputs. ANNs typically consist of an input layer, one or more hidden layers, and an output layer.\n",
    "\n",
    "3. Input Layer: The input layer receives input data and passes it to the subsequent layers for processing. It does not perform any computations.\n",
    "\n",
    "4. Hidden Layer: Hidden layers are intermediate layers between the input and output layers. They perform computations on the inputs received from the previous layer.\n",
    "\n",
    "5. Output Layer: The output layer produces the final output or prediction of the neural network. The number of nodes in the output layer depends on the specific task, such as binary classification (1 node) or multi-class classification (multiple nodes).\n",
    "\n",
    "6. Activation Function: An activation function determines the output of a neuron based on its input. Common activation functions include sigmoid, tanh, ReLU (Rectified Linear Unit), and softmax.\n",
    "\n",
    "7. Weight: Each connection between neurons in different layers has an associated weight. The weights represent the strength of the connection and are adjusted during the training process to optimize the network's performance.\n",
    "\n",
    "8. Bias: Bias is an additional parameter in each neuron that helps shift the activation function's output. It allows the network to model more complex relationships between inputs and outputs.\n",
    "\n",
    "9. Forward Propagation: It is the process of passing input data through the network to compute the output. During forward propagation, each neuron performs a weighted sum of its inputs, applies an activation function, and passes the result to the next layer.\n",
    "\n",
    "10. Backpropagation: Backpropagation is a key algorithm for training neural networks. It involves calculating the gradient of the loss function with respect to the weights and biases of the network, and using that information to update the weights and biases in the opposite direction of the gradient.\n",
    "\n",
    "11. Loss Function: The loss function measures the difference between the predicted output and the true output. It quantifies the performance of the network during training and guides the adjustment of the weights and biases.\n",
    "\n",
    "12. Training: Training refers to the process of optimizing the neural network's weights and biases by exposing it to a labeled dataset and adjusting the parameters to minimize the loss function.\n",
    "\n",
    "13. Validation: Validation is a step during training where a separate dataset, not used for training, is used to evaluate the model's performance and tune hyperparameters.\n",
    "\n",
    "14. Test Set: The test set is a dataset that is completely independent of the training and validation sets. It is used to evaluate the final performance of the trained model.\n",
    "\n",
    "These are some of the fundamental terms used in the context of Artificial Neural Networks. Understanding these terminologies will help you grasp the concepts and developments in the field of deep learning.\n"
   ]
  },
  {
   "cell_type": "code",
   "execution_count": 44,
   "metadata": {},
   "outputs": [],
   "source": [
    "import numpy as np"
   ]
  },
  {
   "cell_type": "code",
   "execution_count": 45,
   "metadata": {},
   "outputs": [],
   "source": [
    "X = [[0,0,0],\n",
    "     [0,0,1],\n",
    "     [0,1,0],\n",
    "     [0,1,1],\n",
    "     [1,0,0],\n",
    "     [1,0,1],\n",
    "     [1,1,1],\n",
    "     [1,1,0]]"
   ]
  },
  {
   "cell_type": "code",
   "execution_count": 46,
   "metadata": {},
   "outputs": [
    {
     "data": {
      "text/plain": [
       "[[0, 0, 0],\n",
       " [0, 0, 1],\n",
       " [0, 1, 0],\n",
       " [0, 1, 1],\n",
       " [1, 0, 0],\n",
       " [1, 0, 1],\n",
       " [1, 1, 1],\n",
       " [1, 1, 0]]"
      ]
     },
     "execution_count": 46,
     "metadata": {},
     "output_type": "execute_result"
    }
   ],
   "source": [
    "X"
   ]
  },
  {
   "cell_type": "code",
   "execution_count": 47,
   "metadata": {},
   "outputs": [],
   "source": [
    "y = [[0],[1],[0],[0],[1],[1],[0],[1]]"
   ]
  },
  {
   "cell_type": "markdown",
   "metadata": {},
   "source": [
    "Converting into Array"
   ]
  },
  {
   "cell_type": "code",
   "execution_count": 48,
   "metadata": {},
   "outputs": [],
   "source": [
    "X = np.array(X)\n",
    "ya = np.array(y)"
   ]
  },
  {
   "cell_type": "code",
   "execution_count": 49,
   "metadata": {},
   "outputs": [
    {
     "data": {
      "text/plain": [
       "(8, 3)"
      ]
     },
     "execution_count": 49,
     "metadata": {},
     "output_type": "execute_result"
    }
   ],
   "source": [
    "X.shape"
   ]
  },
  {
   "cell_type": "code",
   "execution_count": 50,
   "metadata": {},
   "outputs": [
    {
     "data": {
      "text/plain": [
       "(8, 1)"
      ]
     },
     "execution_count": 50,
     "metadata": {},
     "output_type": "execute_result"
    }
   ],
   "source": [
    "ya.shape"
   ]
  },
  {
   "cell_type": "code",
   "execution_count": 51,
   "metadata": {},
   "outputs": [],
   "source": [
    "def sigmoid(a):\n",
    "    return 1/(1+np.exp(-a))"
   ]
  },
  {
   "cell_type": "code",
   "execution_count": 52,
   "metadata": {},
   "outputs": [
    {
     "data": {
      "text/plain": [
       "0.5"
      ]
     },
     "execution_count": 52,
     "metadata": {},
     "output_type": "execute_result"
    }
   ],
   "source": [
    "sigmoid(0)"
   ]
  },
  {
   "cell_type": "code",
   "execution_count": 53,
   "metadata": {},
   "outputs": [],
   "source": [
    "W = np.random.rand(3,1)"
   ]
  },
  {
   "cell_type": "code",
   "execution_count": 54,
   "metadata": {},
   "outputs": [
    {
     "data": {
      "text/plain": [
       "array([[0.00943654],\n",
       "       [0.11003711],\n",
       "       [0.69897851]])"
      ]
     },
     "execution_count": 54,
     "metadata": {},
     "output_type": "execute_result"
    }
   ],
   "source": [
    "W"
   ]
  },
  {
   "cell_type": "code",
   "execution_count": 55,
   "metadata": {},
   "outputs": [],
   "source": [
    "for epoch in range(10):\n",
    "    yp = sigmoid(np.dot(X, W))\n",
    "    dw = 2*np.dot(X.T, (yp-ya))\n",
    "    W = W - dw  "
   ]
  },
  {
   "cell_type": "code",
   "execution_count": 56,
   "metadata": {},
   "outputs": [
    {
     "data": {
      "text/plain": [
       "array([[ 5.15773757],\n",
       "       [-3.71234845],\n",
       "       [ 0.55971162]])"
      ]
     },
     "execution_count": 56,
     "metadata": {},
     "output_type": "execute_result"
    }
   ],
   "source": [
    "W"
   ]
  },
  {
   "cell_type": "code",
   "execution_count": 57,
   "metadata": {},
   "outputs": [
    {
     "data": {
      "text/plain": [
       "array([[0.],\n",
       "       [0.],\n",
       "       [0.],\n",
       "       [0.],\n",
       "       [1.],\n",
       "       [1.],\n",
       "       [0.],\n",
       "       [0.]])"
      ]
     },
     "execution_count": 57,
     "metadata": {},
     "output_type": "execute_result"
    }
   ],
   "source": [
    "np.round(yp)"
   ]
  },
  {
   "cell_type": "code",
   "execution_count": 58,
   "metadata": {},
   "outputs": [
    {
     "data": {
      "text/plain": [
       "array([[0.23281917],\n",
       "       [0.99901024],\n",
       "       [0.140107  ],\n",
       "       [0.78539299],\n",
       "       [0.21264508],\n",
       "       [0.64175678],\n",
       "       [0.99450212],\n",
       "       [0.64090049],\n",
       "       [0.95537065],\n",
       "       [0.16156362],\n",
       "       [0.57365924],\n",
       "       [0.5184079 ],\n",
       "       [0.6972281 ],\n",
       "       [0.2330346 ],\n",
       "       [0.93355478],\n",
       "       [0.76232682],\n",
       "       [0.93428212],\n",
       "       [0.18266432],\n",
       "       [0.68125311],\n",
       "       [0.78840648],\n",
       "       [0.50204642],\n",
       "       [0.20458158],\n",
       "       [0.51326801],\n",
       "       [0.26119764],\n",
       "       [0.96975074],\n",
       "       [0.26442246],\n",
       "       [0.68414817],\n",
       "       [0.04136241],\n",
       "       [0.90476727],\n",
       "       [0.08079   ],\n",
       "       [0.14098411],\n",
       "       [0.6783151 ],\n",
       "       [0.30297503],\n",
       "       [0.55837135],\n",
       "       [0.23055732],\n",
       "       [0.4502798 ],\n",
       "       [0.33567506],\n",
       "       [0.42277442],\n",
       "       [0.39417533],\n",
       "       [0.86793554],\n",
       "       [0.57205048],\n",
       "       [0.84002358],\n",
       "       [0.52304354],\n",
       "       [0.44150004],\n",
       "       [0.18994451],\n",
       "       [0.38143248],\n",
       "       [0.23554981],\n",
       "       [0.76513914],\n",
       "       [0.80377587],\n",
       "       [0.47879017]])"
      ]
     },
     "execution_count": 58,
     "metadata": {},
     "output_type": "execute_result"
    }
   ],
   "source": [
    "X1 = np.random.rand(50,1)\n",
    "X1"
   ]
  },
  {
   "cell_type": "code",
   "execution_count": 59,
   "metadata": {},
   "outputs": [],
   "source": [
    "y1 = 5 * X1 + 2 + np.random.randn(50,1)"
   ]
  },
  {
   "cell_type": "code",
   "execution_count": 60,
   "metadata": {},
   "outputs": [
    {
     "data": {
      "text/plain": [
       "array([[4.08384544],\n",
       "       [5.74272406],\n",
       "       [1.54466136],\n",
       "       [5.34257459],\n",
       "       [1.41603341],\n",
       "       [5.03528973],\n",
       "       [8.03317981],\n",
       "       [3.9287997 ],\n",
       "       [6.08128834],\n",
       "       [2.83421994],\n",
       "       [3.0111863 ],\n",
       "       [3.97391733],\n",
       "       [5.25678902],\n",
       "       [3.21578375],\n",
       "       [6.2134882 ],\n",
       "       [5.66413749],\n",
       "       [5.77937067],\n",
       "       [2.62651156],\n",
       "       [5.82687196],\n",
       "       [6.81122053],\n",
       "       [4.02692569],\n",
       "       [1.9686765 ],\n",
       "       [5.79966598],\n",
       "       [2.59780433],\n",
       "       [6.33492159],\n",
       "       [3.54343215],\n",
       "       [6.22766317],\n",
       "       [1.03588223],\n",
       "       [6.89556414],\n",
       "       [4.8314435 ],\n",
       "       [1.74451804],\n",
       "       [5.40677451],\n",
       "       [2.9261498 ],\n",
       "       [2.54965594],\n",
       "       [1.83717163],\n",
       "       [4.25666325],\n",
       "       [3.84903951],\n",
       "       [4.95842646],\n",
       "       [4.52904054],\n",
       "       [5.29866169],\n",
       "       [2.88662091],\n",
       "       [6.69669302],\n",
       "       [4.57648257],\n",
       "       [4.41008015],\n",
       "       [0.94785976],\n",
       "       [4.17727756],\n",
       "       [4.47735252],\n",
       "       [7.84872147],\n",
       "       [6.62339086],\n",
       "       [4.28660576]])"
      ]
     },
     "execution_count": 60,
     "metadata": {},
     "output_type": "execute_result"
    }
   ],
   "source": [
    "y1"
   ]
  },
  {
   "cell_type": "code",
   "execution_count": 61,
   "metadata": {},
   "outputs": [],
   "source": [
    "import matplotlib.pyplot as plt"
   ]
  },
  {
   "cell_type": "code",
   "execution_count": 62,
   "metadata": {},
   "outputs": [
    {
     "data": {
      "text/plain": [
       "<matplotlib.collections.PathCollection at 0x1c3a57b25d0>"
      ]
     },
     "execution_count": 62,
     "metadata": {},
     "output_type": "execute_result"
    },
    {
     "data": {
      "image/png": "[encoded data removed]",
      "text/plain": [
       "<Figure size 640x480 with 1 Axes>"
      ]
     },
     "metadata": {},
     "output_type": "display_data"
    }
   ],
   "source": [
    "plt.scatter(X1, y1)"
   ]
  },
  {
   "cell_type": "code",
   "execution_count": 101,
   "metadata": {},
   "outputs": [],
   "source": [
    "W1 = np.random.rand(1,1) # single weight\n",
    "b = 0 # single bias\n",
    "cost = []\n",
    "learning_rate = 0.01\n",
    "for epoch in range(100):\n",
    "    cost.append(np.sum((yp1 - y1)**2)/50)\n",
    "    yp1 = (np.dot(X1, W1)) + b # Linear Regression\n",
    "    dw1 = np.dot(X1.T, (yp1 - y1))\n",
    "    db = np.sum(yp1 - y1)\n",
    "    b = b - db*learning_rate\n",
    "    W1 = W1 - dw1*learning_rate"
   ]
  },
  {
   "cell_type": "code",
   "execution_count": 103,
   "metadata": {},
   "outputs": [
    {
     "data": {
      "text/plain": [
       "array([[5.07775158]])"
      ]
     },
     "execution_count": 103,
     "metadata": {},
     "output_type": "execute_result"
    }
   ],
   "source": [
    "W1"
   ]
  },
  {
   "cell_type": "code",
   "execution_count": 104,
   "metadata": {},
   "outputs": [
    {
     "data": {
      "text/plain": [
       "1.7524394273975534"
      ]
     },
     "execution_count": 104,
     "metadata": {},
     "output_type": "execute_result"
    }
   ],
   "source": [
    "b"
   ]
  },
  {
   "cell_type": "code",
   "execution_count": 105,
   "metadata": {},
   "outputs": [
    {
     "data": {
      "text/plain": [
       "[<matplotlib.lines.Line2D at 0x1c3a6b4f310>]"
      ]
     },
     "execution_count": 105,
     "metadata": {},
     "output_type": "execute_result"
    },
    {
     "data": {
      "image/png": "[encoded data removed]",
      "text/plain": [
       "<Figure size 640x480 with 1 Axes>"
      ]
     },
     "metadata": {},
     "output_type": "display_data"
    }
   ],
   "source": [
    "plt.plot(cost)"
   ]
  },
  {
   "cell_type": "code",
   "execution_count": 106,
   "metadata": {},
   "outputs": [
    {
     "data": {
      "text/plain": [
       "[19.744481561589193,\n",
       " 3.8902664277787653,\n",
       " 1.861850250740905,\n",
       " 1.5766178591321358,\n",
       " 1.512705426503662,\n",
       " 1.4783352911791738,\n",
       " 1.4492545034778355,\n",
       " 1.422315027500523,\n",
       " 1.397032468401953,\n",
       " 1.3732631444137962,\n",
       " 1.3509112121900546,\n",
       " 1.3298914869109124,\n",
       " 1.3101244834995316,\n",
       " 1.2915355324012714,\n",
       " 1.274054424012193,\n",
       " 1.2576151342425959,\n",
       " 1.2421555739857912,\n",
       " 1.2276173544685853,\n",
       " 1.2139455667058907,\n",
       " 1.2010885741142212,\n",
       " 1.1889978174866662,\n",
       " 1.1776276315909786,\n",
       " 1.1669350726978598,\n",
       " 1.1568797563880198,\n",
       " 1.1474237050254228,\n",
       " 1.1385312043206386,\n",
       " 1.1301686684425696,\n",
       " 1.1223045131690847,\n",
       " 1.1149090365974779,\n",
       " 1.1079543069642033,\n",
       " 1.101414057150195,\n",
       " 1.0952635854733404,\n",
       " 1.0894796623934047,\n",
       " 1.0840404427770454,\n",
       " 1.0789253833915524,\n",
       " 1.074115165315705,\n",
       " 1.069591620974689,\n",
       " 1.0653376655235034,\n",
       " 1.0613372323197017,\n",
       " 1.057575212241748,\n",
       " 1.0540373966238115,\n",
       " 1.050710423591459,\n",
       " 1.0475817275955794,\n",
       " 1.0446394919539177,\n",
       " 1.0418726042209887,\n",
       " 1.0392706142177985,\n",
       " 1.036823694562864,\n",
       " 1.0345226035554569,\n",
       " 1.0323586502708881,\n",
       " 1.0303236617360054,\n",
       " 1.0284099520609238,\n",
       " 1.0266102934104084,\n",
       " 1.0249178887052712,\n",
       " 1.023326345950677,\n",
       " 1.0218296540944014,\n",
       " 1.0204221603238601,\n",
       " 1.0190985487161623,\n",
       " 1.0178538201605556,\n",
       " 1.0166832734774252,\n",
       " 1.015582487662545,\n",
       " 1.014547305189515,\n",
       " 1.0135738163073147,\n",
       " 1.0126583442736807,\n",
       " 1.0117974314685219,\n",
       " 1.0109878263349337,\n",
       " 1.0102264710984858,\n",
       " 1.0095104902184036,\n",
       " 1.0088371795270155,\n",
       " 1.0082039960164662,\n",
       " 1.007608548234098,\n",
       " 1.0070485872502442,\n",
       " 1.006521998164311,\n",
       " 1.0060267921170682,\n",
       " 1.0055610987789865,\n",
       " 1.005123159286242,\n",
       " 1.0047113195977129,\n",
       " 1.0043240242478815,\n",
       " 1.0039598104720386,\n",
       " 1.0036173026816109,\n",
       " 1.003295207268739,\n",
       " 1.0029923077204876,\n",
       " 1.0027074600242332,\n",
       " 1.0024395883468729,\n",
       " 1.0021876809715453,\n",
       " 1.0019507864765027,\n",
       " 1.0017280101417143,\n",
       " 1.0015185105696256,\n",
       " 1.0013214965073056,\n",
       " 1.001136223857988,\n",
       " 1.0009619928707125,\n",
       " 1.0007981454974557,\n",
       " 1.0006440629077686,\n",
       " 1.0004991631515334,\n",
       " 1.0003628989610127,\n",
       " 1.0002347556838904,\n",
       " 1.000114249339495,\n",
       " 1.000000924790867,\n",
       " 0.999894354025766,\n",
       " 0.9997941345401236]"
      ]
     },
     "execution_count": 106,
     "metadata": {},
     "output_type": "execute_result"
    }
   ],
   "source": [
    "cost[1:]"
   ]
  },
  {
   "cell_type": "code",
   "execution_count": null,
   "metadata": {},
   "outputs": [],
   "source": []
  }
 ],
 "metadata": {
  "kernelspec": {
   "display_name": "Python 3",
   "language": "python",
   "name": "python3"
  },
  "language_info": {
   "codemirror_mode": {
    "name": "ipython",
    "version": 3
   },
   "file_extension": ".py",
   "mimetype": "text/x-python",
   "name": "python",
   "nbconvert_exporter": "python",
   "pygments_lexer": "ipython3",
   "version": "3.11.0"
  },
  "orig_nbformat": 4
 },
 "nbformat": 4,
 "nbformat_minor": 2
}
