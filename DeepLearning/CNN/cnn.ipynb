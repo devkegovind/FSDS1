{
 "cells": [
  {
   "attachments": {},
   "cell_type": "markdown",
   "metadata": {},
   "source": [
    "<h1 style=\"text-align:center\"><b>CONVOLUTION NEURAL NETWORK</b></h1>"
   ]
  },
  {
   "attachments": {},
   "cell_type": "markdown",
   "metadata": {},
   "source": [
    "- Convolutional Neural Network is one of main categories to do image classification and image recognition in neural networks.\n",
    "- Scene labelling, object detections and face recognition, etc. are some of the areas where convolutional Neural Network are widely used.\n",
    "- CNN takes an image as input, which is clssified & process under a certain category such as Dog, Cat, Lion, etc. \n",
    "- The computer sees an image as an array of pixels and depends on the resolution of the image.\n",
    "- Based on image resolution, it will see as             $h*w*d$\n",
    "\n",
    "    *where* $h$ --- Height,            $w$ --- Width,            $d$ --- Dimensions\n",
    "\n",
    "- For Example, A **RGB** image is $6*6*3$   array of the matrix, and the **grayscale** image is $4*4*1$ array of the matrix.\n",
    "\n",
    "- In CNN each input image will pass through a sequence of convolution layers along with Pooling, fully connected layers, filter(also known as Kernels).\n",
    "- After that we will apply the soft-max function to classify an object with probability values 0 and 1.\n",
    "- It is used for feature extraction of images.\n",
    "            "
   ]
  },
  {
   "attachments": {
    "image.png": {
     "image/png": "[encoded data removed]"
    }
   },
   "cell_type": "markdown",
   "metadata": {},
   "source": [
    "<h3><b>CONVOLUTION LAYER:</b></h3>\n",
    "\n",
    "Convolution layer is the first layer to extract features from an input image. By learning image features using a small square of input data, the convolutional of input data, the convolutional layer preserves the relationship between pixels. It is a mathematical operation which takes two inputs such as image matrix and kernel of filter.\n",
    "\n",
    "The dimension of the image matrix = $h*w*d$\n",
    "\n",
    "The dimension of the filter = $fh*fw*d$\n",
    "\n",
    "The dimension of the output = $(h - fh + 1) * (w - fw + 1) * 1$\n",
    "\n",
    "In case of convolution all dimesions of image change.\n",
    "\n",
    "\n",
    "![image.png](attachment:image.png)\n",
    "<h4 style = \"text-align:center\">Fig.: Image Matrix Multiplication Kernel or Filter Matrix</h4>"
   ]
  },
  {
   "attachments": {},
   "cell_type": "markdown",
   "metadata": {},
   "source": [
    "Lets start with considerations a $5*5$ image whose pixel values are $0, 1$ and filter matrix is $3*3$ as:"
   ]
  },
  {
   "attachments": {},
   "cell_type": "markdown",
   "metadata": {},
   "source": [
    "```\n",
    "1\t1\t1\t0\t0\n",
    "0\t1\t1\t1\t0       1  0  1      4  3  4\n",
    "0\t0\t1\t1\t1  *    0  1  0   =  2  4  3\n",
    "0\t0\t1\t1\t0       1  0  1      2  3  4\n",
    "0\t1\t1\t0\t0\n",
    "\n",
    "````"
   ]
  },
  {
   "attachments": {},
   "cell_type": "markdown",
   "metadata": {},
   "source": [
    "The convolution of $5*5$ image matrix multiplies with $3*3$ filter matrix is called **Feature Map**.\n",
    "\n",
    "Convolution of an image with different filters can perform an operation such as blur, shaprpen, and edge detection by applying filters."
   ]
  },
  {
   "attachments": {},
   "cell_type": "markdown",
   "metadata": {},
   "source": [
    "**Strides:**\n",
    "\n",
    "\"strides\" in the context of Convolutional Neural Networks (CNNs), it refers to the step size or the number of pixels by which the convolutional kernel is moved during the convolution operation. Strides determine the amount of spatial downsampling or upsampling that occurs at each convolutional layer.\n",
    "\n",
    "Here are a few key points about strides in CNNs:\n",
    "\n",
    "1. Stride Size: The stride size determines how much the convolutional kernel shifts or moves across the input image or feature map. A stride of 1 means the kernel moves one pixel at a time, while a stride of 2 means it moves two pixels at a time. Larger stride values result in more aggressive downsampling.\n",
    "\n",
    "2. Downsampling: Using larger stride values during the convolution operation can lead to downsampling, where the spatial dimensions of the feature map are reduced. Downsampling is commonly employed in CNN architectures to reduce the spatial resolution while increasing the receptive field and capturing larger context.\n",
    "\n",
    "3. Spatial Size: The choice of stride affects the spatial size of the output feature map. With a stride of 1, the output feature map has the same spatial dimensions as the input. However, with a stride greater than 1, the output feature map will have reduced spatial dimensions, as each stride skips a certain number of pixels.\n",
    "\n",
    "4. Upsampling: While strides are typically associated with downsampling, they can also be used for upsampling. In some architectures, such as transposed convolutions or deconvolutions, strides larger than 1 are employed to increase the spatial resolution of the feature map, effectively upsampling the information.\n",
    "\n",
    "5. Trade-Off: The choice of stride size in a CNN involves a trade-off. Smaller strides (e.g., 1) preserve more spatial information but may lead to higher computational costs and larger models. Larger strides (e.g., 2) reduce the spatial resolution, making the network more efficient but potentially sacrificing fine-grained details.\n",
    "\n",
    "Strides are an essential hyperparameter in CNNs that influence the size, information content, and computational requirements of the network. By appropriately adjusting the stride size in different layers, CNNs can effectively capture hierarchical features and adapt to specific tasks and data characteristics."
   ]
  },
  {
   "attachments": {},
   "cell_type": "markdown",
   "metadata": {},
   "source": [
    "The Following Matrix shows that the convolution would work a stride of 2."
   ]
  },
  {
   "attachments": {},
   "cell_type": "markdown",
   "metadata": {},
   "source": [
    "```\n",
    "1   2   3   4   5   6   7\n",
    "11  12  13  14  15  16  17\n",
    "21  22  23  24  25  26  27\n",
    "31  32  33  34  35  26  37\n",
    "41  42  43  44  45  46  47  *  108  126 \n",
    "51  52  53  54  55  56  57     288  306 \n",
    "61  62  63  64  65  66  67\n",
    "71  72  73  74  75  76  77\n",
    "\n",
    "```"
   ]
  },
  {
   "attachments": {},
   "cell_type": "markdown",
   "metadata": {},
   "source": [
    "**Padding:**\n",
    "\n",
    "Padding plays a crucical role in building the convolution Neural Netwrok. if the image will get shrink and if we will take a neural network with 100's of layers on it. it will give us a small image after filtered in the end.\n",
    "\n",
    "if we take a three filter on top of a grayscale image and do the convoluting then what will happen?\n",
    "It is clear from the above picture that the pixel in the corner will get covers one time, but the middle pixel will get covered more than once. It means that we have more information on that pixel, so there are two downsides:\n",
    "- shrinking outputs\n",
    "- Lossing information on the corner of the image.\n",
    "    \n",
    "To overcome this, we have introduced padding to an image. `padding is an additional layer which can add to the border of an image.`\n",
    "\n",
    "- I want same dimension of image after convolution that time we will use same padding."
   ]
  },
  {
   "attachments": {},
   "cell_type": "markdown",
   "metadata": {},
   "source": [
    "**Pooling Layer:**\n",
    "\n",
    "Pooling Layer plays an important role in pre-processing of an image. Pooling layer reduces the no. of parameters when the images are too large. Pooling is \"downscaling\" of the obtained from the previous layers. it can be compared to shrinking an image to reduces its pixels density.\n",
    "\n",
    "`spatial pooling` is called downsampling or subsampling which reduces the dimensionality of each map but retains the important information.\n",
    "\n",
    "There are the following Types of spatial pooling:\n",
    "1. Max Pooling:\n",
    "    Max pooling is a sample-based discretization process. Its main objective is to downscale an input representation, reducing its dimensionality and allowing for the assumption to be made about features contain in the sub-region binned.\n",
    "\n",
    "    Max pooling is done by applying a max filter to non-overlapping sub-regions of the initial representation.\n",
    "\n",
    "    In Pooling only change in dimensions of rows & columns not change in third dimension of image.\n",
    "\n"
   ]
  },
  {
   "attachments": {},
   "cell_type": "markdown",
   "metadata": {},
   "source": [
    "```\n",
    "12  20  30  3   2 * 2\n",
    "8   12  2   0  --------->       20  30\n",
    "34  70  37  4   Max Pool        112 37\n",
    "112 100 25  2\n",
    "```"
   ]
  },
  {
   "attachments": {
    "image-2.png": {
     "image/png": "[encoded data removed]"
    },
    "image.png": {
     "image/png": "[encoded data removed]"
    }
   },
   "cell_type": "markdown",
   "metadata": {},
   "source": [
    "![image-2.png](attachment:image-2.png)"
   ]
  },
  {
   "attachments": {},
   "cell_type": "markdown",
   "metadata": {},
   "source": [
    "**2. Average Pooling:**\n",
    "\n",
    "Downscaling will perform through average pooling by dividing the input rectangular pooling regions and computing the average values of each region.\n",
    "\n",
    "*syntax:*\n",
    "- layer = averagepooling2dLayer(poolsize)\n",
    "- layer = averagepooling2dLayer(poolsize, Name, value)"
   ]
  },
  {
   "attachments": {},
   "cell_type": "markdown",
   "metadata": {},
   "source": [
    "**3. Sum Pooling:**\n",
    "\n",
    "The sub-region for sum pooling or mean pooling are set exactly the same for max-pooling but instead of using the max function we use sum or mean."
   ]
  },
  {
   "attachments": {},
   "cell_type": "markdown",
   "metadata": {},
   "source": [
    "**Fully Connected Layer**\n",
    "\n",
    "The Fully connected Layer is a layer in which the input from the other layers will be flattened into a vector & sent. It will transform the output into desired number of classes by the network."
   ]
  },
  {
   "attachments": {
    "image.png": {
     "image/png": "[encoded data removed]"
    }
   },
   "cell_type": "markdown",
   "metadata": {},
   "source": [
    "<h3><b>CNN with Same Padding</b></h3>\n",
    "\n",
    "![image.png](attachment:image.png)"
   ]
  },
  {
   "cell_type": "markdown",
   "metadata": {},
   "source": [
    "<h2 style = \"text-align:center;\"><b>DIGIT RECOGNITION WITH CNN</b></h2>"
   ]
  },
  {
   "cell_type": "code",
   "execution_count": 8,
   "metadata": {},
   "outputs": [],
   "source": [
    "import pandas as pd\n",
    "import matplotlib.pyplot as plt\n",
    "import numpy as np"
   ]
  },
  {
   "cell_type": "code",
   "execution_count": 2,
   "metadata": {},
   "outputs": [],
   "source": [
    "df = pd.read_csv(\"D:\\\\Downloads\\\\train.csv\\\\train.csv\")"
   ]
  },
  {
   "cell_type": "code",
   "execution_count": 3,
   "metadata": {},
   "outputs": [
    {
     "data": {
      "text/html": [
       "<div>\n",
       "<style scoped>\n",
       "    .dataframe tbody tr th:only-of-type {\n",
       "        vertical-align: middle;\n",
       "    }\n",
       "\n",
       "    .dataframe tbody tr th {\n",
       "        vertical-align: top;\n",
       "    }\n",
       "\n",
       "    .dataframe thead th {\n",
       "        text-align: right;\n",
       "    }\n",
       "</style>\n",
       "<table border=\"1\" class=\"dataframe\">\n",
       "  <thead>\n",
       "    <tr style=\"text-align: right;\">\n",
       "      <th></th>\n",
       "      <th>label</th>\n",
       "      <th>pixel0</th>\n",
       "      <th>pixel1</th>\n",
       "      <th>pixel2</th>\n",
       "      <th>pixel3</th>\n",
       "      <th>pixel4</th>\n",
       "      <th>pixel5</th>\n",
       "      <th>pixel6</th>\n",
       "      <th>pixel7</th>\n",
       "      <th>pixel8</th>\n",
       "      <th>...</th>\n",
       "      <th>pixel774</th>\n",
       "      <th>pixel775</th>\n",
       "      <th>pixel776</th>\n",
       "      <th>pixel777</th>\n",
       "      <th>pixel778</th>\n",
       "      <th>pixel779</th>\n",
       "      <th>pixel780</th>\n",
       "      <th>pixel781</th>\n",
       "      <th>pixel782</th>\n",
       "      <th>pixel783</th>\n",
       "    </tr>\n",
       "  </thead>\n",
       "  <tbody>\n",
       "    <tr>\n",
       "      <th>0</th>\n",
       "      <td>1</td>\n",
       "      <td>0</td>\n",
       "      <td>0</td>\n",
       "      <td>0</td>\n",
       "      <td>0</td>\n",
       "      <td>0</td>\n",
       "      <td>0</td>\n",
       "      <td>0</td>\n",
       "      <td>0</td>\n",
       "      <td>0</td>\n",
       "      <td>...</td>\n",
       "      <td>0</td>\n",
       "      <td>0</td>\n",
       "      <td>0</td>\n",
       "      <td>0</td>\n",
       "      <td>0</td>\n",
       "      <td>0</td>\n",
       "      <td>0</td>\n",
       "      <td>0</td>\n",
       "      <td>0</td>\n",
       "      <td>0</td>\n",
       "    </tr>\n",
       "    <tr>\n",
       "      <th>1</th>\n",
       "      <td>0</td>\n",
       "      <td>0</td>\n",
       "      <td>0</td>\n",
       "      <td>0</td>\n",
       "      <td>0</td>\n",
       "      <td>0</td>\n",
       "      <td>0</td>\n",
       "      <td>0</td>\n",
       "      <td>0</td>\n",
       "      <td>0</td>\n",
       "      <td>...</td>\n",
       "      <td>0</td>\n",
       "      <td>0</td>\n",
       "      <td>0</td>\n",
       "      <td>0</td>\n",
       "      <td>0</td>\n",
       "      <td>0</td>\n",
       "      <td>0</td>\n",
       "      <td>0</td>\n",
       "      <td>0</td>\n",
       "      <td>0</td>\n",
       "    </tr>\n",
       "    <tr>\n",
       "      <th>2</th>\n",
       "      <td>1</td>\n",
       "      <td>0</td>\n",
       "      <td>0</td>\n",
       "      <td>0</td>\n",
       "      <td>0</td>\n",
       "      <td>0</td>\n",
       "      <td>0</td>\n",
       "      <td>0</td>\n",
       "      <td>0</td>\n",
       "      <td>0</td>\n",
       "      <td>...</td>\n",
       "      <td>0</td>\n",
       "      <td>0</td>\n",
       "      <td>0</td>\n",
       "      <td>0</td>\n",
       "      <td>0</td>\n",
       "      <td>0</td>\n",
       "      <td>0</td>\n",
       "      <td>0</td>\n",
       "      <td>0</td>\n",
       "      <td>0</td>\n",
       "    </tr>\n",
       "    <tr>\n",
       "      <th>3</th>\n",
       "      <td>4</td>\n",
       "      <td>0</td>\n",
       "      <td>0</td>\n",
       "      <td>0</td>\n",
       "      <td>0</td>\n",
       "      <td>0</td>\n",
       "      <td>0</td>\n",
       "      <td>0</td>\n",
       "      <td>0</td>\n",
       "      <td>0</td>\n",
       "      <td>...</td>\n",
       "      <td>0</td>\n",
       "      <td>0</td>\n",
       "      <td>0</td>\n",
       "      <td>0</td>\n",
       "      <td>0</td>\n",
       "      <td>0</td>\n",
       "      <td>0</td>\n",
       "      <td>0</td>\n",
       "      <td>0</td>\n",
       "      <td>0</td>\n",
       "    </tr>\n",
       "    <tr>\n",
       "      <th>4</th>\n",
       "      <td>0</td>\n",
       "      <td>0</td>\n",
       "      <td>0</td>\n",
       "      <td>0</td>\n",
       "      <td>0</td>\n",
       "      <td>0</td>\n",
       "      <td>0</td>\n",
       "      <td>0</td>\n",
       "      <td>0</td>\n",
       "      <td>0</td>\n",
       "      <td>...</td>\n",
       "      <td>0</td>\n",
       "      <td>0</td>\n",
       "      <td>0</td>\n",
       "      <td>0</td>\n",
       "      <td>0</td>\n",
       "      <td>0</td>\n",
       "      <td>0</td>\n",
       "      <td>0</td>\n",
       "      <td>0</td>\n",
       "      <td>0</td>\n",
       "    </tr>\n",
       "    <tr>\n",
       "      <th>...</th>\n",
       "      <td>...</td>\n",
       "      <td>...</td>\n",
       "      <td>...</td>\n",
       "      <td>...</td>\n",
       "      <td>...</td>\n",
       "      <td>...</td>\n",
       "      <td>...</td>\n",
       "      <td>...</td>\n",
       "      <td>...</td>\n",
       "      <td>...</td>\n",
       "      <td>...</td>\n",
       "      <td>...</td>\n",
       "      <td>...</td>\n",
       "      <td>...</td>\n",
       "      <td>...</td>\n",
       "      <td>...</td>\n",
       "      <td>...</td>\n",
       "      <td>...</td>\n",
       "      <td>...</td>\n",
       "      <td>...</td>\n",
       "      <td>...</td>\n",
       "    </tr>\n",
       "    <tr>\n",
       "      <th>41995</th>\n",
       "      <td>0</td>\n",
       "      <td>0</td>\n",
       "      <td>0</td>\n",
       "      <td>0</td>\n",
       "      <td>0</td>\n",
       "      <td>0</td>\n",
       "      <td>0</td>\n",
       "      <td>0</td>\n",
       "      <td>0</td>\n",
       "      <td>0</td>\n",
       "      <td>...</td>\n",
       "      <td>0</td>\n",
       "      <td>0</td>\n",
       "      <td>0</td>\n",
       "      <td>0</td>\n",
       "      <td>0</td>\n",
       "      <td>0</td>\n",
       "      <td>0</td>\n",
       "      <td>0</td>\n",
       "      <td>0</td>\n",
       "      <td>0</td>\n",
       "    </tr>\n",
       "    <tr>\n",
       "      <th>41996</th>\n",
       "      <td>1</td>\n",
       "      <td>0</td>\n",
       "      <td>0</td>\n",
       "      <td>0</td>\n",
       "      <td>0</td>\n",
       "      <td>0</td>\n",
       "      <td>0</td>\n",
       "      <td>0</td>\n",
       "      <td>0</td>\n",
       "      <td>0</td>\n",
       "      <td>...</td>\n",
       "      <td>0</td>\n",
       "      <td>0</td>\n",
       "      <td>0</td>\n",
       "      <td>0</td>\n",
       "      <td>0</td>\n",
       "      <td>0</td>\n",
       "      <td>0</td>\n",
       "      <td>0</td>\n",
       "      <td>0</td>\n",
       "      <td>0</td>\n",
       "    </tr>\n",
       "    <tr>\n",
       "      <th>41997</th>\n",
       "      <td>7</td>\n",
       "      <td>0</td>\n",
       "      <td>0</td>\n",
       "      <td>0</td>\n",
       "      <td>0</td>\n",
       "      <td>0</td>\n",
       "      <td>0</td>\n",
       "      <td>0</td>\n",
       "      <td>0</td>\n",
       "      <td>0</td>\n",
       "      <td>...</td>\n",
       "      <td>0</td>\n",
       "      <td>0</td>\n",
       "      <td>0</td>\n",
       "      <td>0</td>\n",
       "      <td>0</td>\n",
       "      <td>0</td>\n",
       "      <td>0</td>\n",
       "      <td>0</td>\n",
       "      <td>0</td>\n",
       "      <td>0</td>\n",
       "    </tr>\n",
       "    <tr>\n",
       "      <th>41998</th>\n",
       "      <td>6</td>\n",
       "      <td>0</td>\n",
       "      <td>0</td>\n",
       "      <td>0</td>\n",
       "      <td>0</td>\n",
       "      <td>0</td>\n",
       "      <td>0</td>\n",
       "      <td>0</td>\n",
       "      <td>0</td>\n",
       "      <td>0</td>\n",
       "      <td>...</td>\n",
       "      <td>0</td>\n",
       "      <td>0</td>\n",
       "      <td>0</td>\n",
       "      <td>0</td>\n",
       "      <td>0</td>\n",
       "      <td>0</td>\n",
       "      <td>0</td>\n",
       "      <td>0</td>\n",
       "      <td>0</td>\n",
       "      <td>0</td>\n",
       "    </tr>\n",
       "    <tr>\n",
       "      <th>41999</th>\n",
       "      <td>9</td>\n",
       "      <td>0</td>\n",
       "      <td>0</td>\n",
       "      <td>0</td>\n",
       "      <td>0</td>\n",
       "      <td>0</td>\n",
       "      <td>0</td>\n",
       "      <td>0</td>\n",
       "      <td>0</td>\n",
       "      <td>0</td>\n",
       "      <td>...</td>\n",
       "      <td>0</td>\n",
       "      <td>0</td>\n",
       "      <td>0</td>\n",
       "      <td>0</td>\n",
       "      <td>0</td>\n",
       "      <td>0</td>\n",
       "      <td>0</td>\n",
       "      <td>0</td>\n",
       "      <td>0</td>\n",
       "      <td>0</td>\n",
       "    </tr>\n",
       "  </tbody>\n",
       "</table>\n",
       "<p>42000 rows × 785 columns</p>\n",
       "</div>"
      ],
      "text/plain": [
       "       label  pixel0  pixel1  pixel2  pixel3  pixel4  pixel5  pixel6  pixel7   \n",
       "0          1       0       0       0       0       0       0       0       0  \\\n",
       "1          0       0       0       0       0       0       0       0       0   \n",
       "2          1       0       0       0       0       0       0       0       0   \n",
       "3          4       0       0       0       0       0       0       0       0   \n",
       "4          0       0       0       0       0       0       0       0       0   \n",
       "...      ...     ...     ...     ...     ...     ...     ...     ...     ...   \n",
       "41995      0       0       0       0       0       0       0       0       0   \n",
       "41996      1       0       0       0       0       0       0       0       0   \n",
       "41997      7       0       0       0       0       0       0       0       0   \n",
       "41998      6       0       0       0       0       0       0       0       0   \n",
       "41999      9       0       0       0       0       0       0       0       0   \n",
       "\n",
       "       pixel8  ...  pixel774  pixel775  pixel776  pixel777  pixel778   \n",
       "0           0  ...         0         0         0         0         0  \\\n",
       "1           0  ...         0         0         0         0         0   \n",
       "2           0  ...         0         0         0         0         0   \n",
       "3           0  ...         0         0         0         0         0   \n",
       "4           0  ...         0         0         0         0         0   \n",
       "...       ...  ...       ...       ...       ...       ...       ...   \n",
       "41995       0  ...         0         0         0         0         0   \n",
       "41996       0  ...         0         0         0         0         0   \n",
       "41997       0  ...         0         0         0         0         0   \n",
       "41998       0  ...         0         0         0         0         0   \n",
       "41999       0  ...         0         0         0         0         0   \n",
       "\n",
       "       pixel779  pixel780  pixel781  pixel782  pixel783  \n",
       "0             0         0         0         0         0  \n",
       "1             0         0         0         0         0  \n",
       "2             0         0         0         0         0  \n",
       "3             0         0         0         0         0  \n",
       "4             0         0         0         0         0  \n",
       "...         ...       ...       ...       ...       ...  \n",
       "41995         0         0         0         0         0  \n",
       "41996         0         0         0         0         0  \n",
       "41997         0         0         0         0         0  \n",
       "41998         0         0         0         0         0  \n",
       "41999         0         0         0         0         0  \n",
       "\n",
       "[42000 rows x 785 columns]"
      ]
     },
     "execution_count": 3,
     "metadata": {},
     "output_type": "execute_result"
    }
   ],
   "source": [
    "df"
   ]
  },
  {
   "cell_type": "code",
   "execution_count": 4,
   "metadata": {},
   "outputs": [
    {
     "data": {
      "text/plain": [
       "(42000, 785)"
      ]
     },
     "execution_count": 4,
     "metadata": {},
     "output_type": "execute_result"
    }
   ],
   "source": [
    "df.shape"
   ]
  },
  {
   "cell_type": "code",
   "execution_count": 17,
   "metadata": {},
   "outputs": [],
   "source": [
    "df.to_csv('../CNN/train1.csv', index = False)  "
   ]
  },
  {
   "cell_type": "code",
   "execution_count": 5,
   "metadata": {},
   "outputs": [],
   "source": [
    "X = df.drop('label', axis = 1)\n",
    "y = df['label']"
   ]
  },
  {
   "cell_type": "code",
   "execution_count": 6,
   "metadata": {},
   "outputs": [
    {
     "data": {
      "text/plain": [
       "((42000, 784), (42000,))"
      ]
     },
     "execution_count": 6,
     "metadata": {},
     "output_type": "execute_result"
    }
   ],
   "source": [
    "X.shape, y.shape"
   ]
  },
  {
   "cell_type": "markdown",
   "metadata": {},
   "source": [
    "- **We apply convolution layer on 3D object only**\n",
    "- **If their is no color image then we will consider third dimensions as 1 for graycolor image and 3 for color image.**\n",
    "- **So i will convert X into  np.array after change the dimensions of X**"
   ]
  },
  {
   "cell_type": "code",
   "execution_count": 10,
   "metadata": {},
   "outputs": [],
   "source": [
    "X = np.array(X)\n",
    "X = X.reshape(-1, 28, 28, 1) # -1 indicates any value"
   ]
  },
  {
   "cell_type": "markdown",
   "metadata": {},
   "source": [
    "```\n",
    "42000 * 784 = x * 28 * 28 * 1\n",
    "\n",
    "x = (42000 * 784) / (28 * 28 * 1)\n",
    "\n",
    "x = 42000\n",
    "```"
   ]
  },
  {
   "cell_type": "code",
   "execution_count": 11,
   "metadata": {},
   "outputs": [
    {
     "data": {
      "text/plain": [
       "(42000, 28, 28, 1)"
      ]
     },
     "execution_count": 11,
     "metadata": {},
     "output_type": "execute_result"
    }
   ],
   "source": [
    "X.shape"
   ]
  },
  {
   "cell_type": "markdown",
   "metadata": {},
   "source": [
    "<h3>Scaling on X</h3>"
   ]
  },
  {
   "cell_type": "code",
   "execution_count": 12,
   "metadata": {},
   "outputs": [],
   "source": [
    "X = X/255"
   ]
  },
  {
   "cell_type": "code",
   "execution_count": 13,
   "metadata": {},
   "outputs": [],
   "source": [
    "from tensorflow.keras.utils import to_categorical"
   ]
  },
  {
   "cell_type": "code",
   "execution_count": 14,
   "metadata": {},
   "outputs": [],
   "source": [
    "y = to_categorical(y,num_classes = 10)"
   ]
  },
  {
   "cell_type": "code",
   "execution_count": 15,
   "metadata": {},
   "outputs": [],
   "source": [
    "from tensorflow.keras.models import Sequential\n",
    "from tensorflow.keras.layers import Dense, Conv2D, MaxPool2D, Flatten"
   ]
  },
  {
   "cell_type": "code",
   "execution_count": 32,
   "metadata": {},
   "outputs": [],
   "source": [
    "model = Sequential()\n",
    "model.add(Conv2D(32, (3,3), padding = 'same', activation = 'relu',input_shape =(28,28,1)))\n",
    "model.add(MaxPool2D()) # 14 * 14 * 16\n",
    "model.add(Conv2D(64, (3,3), padding = 'same',activation = 'relu')) # 14 * 14 * 32\n",
    "model.add(MaxPool2D()) # 7 * 7 * 32\n",
    "model.add(Flatten()) # 1568\n",
    "model.add(Dense(10, activation = 'softmax')) # 1568 * 10 --- weight, 10 --- bias = 1568*10+10 = 15690 = No. of trainble Parameter"
   ]
  },
  {
   "cell_type": "code",
   "execution_count": 33,
   "metadata": {},
   "outputs": [
    {
     "name": "stdout",
     "output_type": "stream",
     "text": [
      "Model: \"sequential_4\"\n",
      "_________________________________________________________________\n",
      " Layer (type)                Output Shape              Param #   \n",
      "=================================================================\n",
      " conv2d_7 (Conv2D)           (None, 28, 28, 32)        320       \n",
      "                                                                 \n",
      " max_pooling2d_6 (MaxPoolin  (None, 14, 14, 32)        0         \n",
      " g2D)                                                            \n",
      "                                                                 \n",
      " conv2d_8 (Conv2D)           (None, 14, 14, 64)        18496     \n",
      "                                                                 \n",
      " max_pooling2d_7 (MaxPoolin  (None, 7, 7, 64)          0         \n",
      " g2D)                                                            \n",
      "                                                                 \n",
      " flatten_3 (Flatten)         (None, 3136)              0         \n",
      "                                                                 \n",
      " dense_3 (Dense)             (None, 10)                31370     \n",
      "                                                                 \n",
      "=================================================================\n",
      "Total params: 50186 (196.04 KB)\n",
      "Trainable params: 50186 (196.04 KB)\n",
      "Non-trainable params: 0 (0.00 Byte)\n",
      "_________________________________________________________________\n"
     ]
    }
   ],
   "source": [
    "model.summary()"
   ]
  },
  {
   "cell_type": "code",
   "execution_count": 34,
   "metadata": {},
   "outputs": [],
   "source": [
    "model.compile(loss = 'categorical_crossentropy', metrics = ['accuracy'])"
   ]
  },
  {
   "cell_type": "code",
   "execution_count": 35,
   "metadata": {},
   "outputs": [
    {
     "name": "stdout",
     "output_type": "stream",
     "text": [
      "Epoch 1/10\n",
      "1313/1313 [==============================] - 27s 20ms/step - loss: 0.1768 - accuracy: 0.9460\n",
      "Epoch 2/10\n",
      "1313/1313 [==============================] - 37s 28ms/step - loss: 0.0579 - accuracy: 0.9818\n",
      "Epoch 3/10\n",
      "1313/1313 [==============================] - 40s 30ms/step - loss: 0.0423 - accuracy: 0.9869\n",
      "Epoch 4/10\n",
      "1313/1313 [==============================] - 35s 26ms/step - loss: 0.0342 - accuracy: 0.9899\n",
      "Epoch 5/10\n",
      "1313/1313 [==============================] - 34s 26ms/step - loss: 0.0291 - accuracy: 0.9908\n",
      "Epoch 6/10\n",
      "1313/1313 [==============================] - 34s 26ms/step - loss: 0.0247 - accuracy: 0.9927\n",
      "Epoch 7/10\n",
      "1313/1313 [==============================] - 34s 26ms/step - loss: 0.0221 - accuracy: 0.9936\n",
      "Epoch 8/10\n",
      "1313/1313 [==============================] - 37s 28ms/step - loss: 0.0187 - accuracy: 0.9943\n",
      "Epoch 9/10\n",
      "1313/1313 [==============================] - 34s 26ms/step - loss: 0.0165 - accuracy: 0.9956\n",
      "Epoch 10/10\n",
      "1313/1313 [==============================] - 32s 25ms/step - loss: 0.0144 - accuracy: 0.9961\n"
     ]
    },
    {
     "data": {
      "text/plain": [
       "<keras.src.callbacks.History at 0x1952ca247d0>"
      ]
     },
     "execution_count": 35,
     "metadata": {},
     "output_type": "execute_result"
    }
   ],
   "source": [
    "model.fit(X, y, epochs = 10, batch_size=32)"
   ]
  },
  {
   "cell_type": "code",
   "execution_count": 36,
   "metadata": {},
   "outputs": [],
   "source": [
    "import cv2\n",
    "def get_prediction(path):\n",
    "    img = cv2.imread(path, 0)\n",
    "    img = cv2.resize(img, (28, 28))/255\n",
    "    return model.predict(img.reshape(1,28,28,1)).argmax()"
   ]
  },
  {
   "cell_type": "code",
   "execution_count": 37,
   "metadata": {},
   "outputs": [
    {
     "name": "stdout",
     "output_type": "stream",
     "text": [
      "1/1 [==============================] - 0s 105ms/step\n"
     ]
    },
    {
     "data": {
      "text/plain": [
       "3"
      ]
     },
     "execution_count": 37,
     "metadata": {},
     "output_type": "execute_result"
    }
   ],
   "source": [
    "get_prediction(\"D:\\\\FSDS\\DeepLearning\\\\Digit Recognition\\\\Data\\\\Untitled.jpg\")"
   ]
  },
  {
   "cell_type": "code",
   "execution_count": 38,
   "metadata": {},
   "outputs": [
    {
     "name": "stdout",
     "output_type": "stream",
     "text": [
      "1/1 [==============================] - 0s 39ms/step\n",
      "Untitled.jpg ----> 3\n"
     ]
    }
   ],
   "source": [
    "digit = get_prediction(\"D:\\\\FSDS\\DeepLearning\\\\Digit Recognition\\\\Data\\\\Untitled.jpg\")\n",
    "print(f'Untitled.jpg ----> {digit}')"
   ]
  }
 ],
 "metadata": {
  "kernelspec": {
   "display_name": "Python 3",
   "language": "python",
   "name": "python3"
  },
  "language_info": {
   "codemirror_mode": {
    "name": "ipython",
    "version": 3
   },
   "file_extension": ".py",
   "mimetype": "text/x-python",
   "name": "python",
   "nbconvert_exporter": "python",
   "pygments_lexer": "ipython3",
   "version": "3.11.0"
  },
  "orig_nbformat": 4
 },
 "nbformat": 4,
 "nbformat_minor": 2
}
