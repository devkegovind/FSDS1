{
 "cells": [
  {
   "attachments": {},
   "cell_type": "markdown",
   "metadata": {},
   "source": [
    "<h1 style=\"text-align:center\"><b>UNSUPERVISED MACHINE LEARNING</b></h1>\n",
    "\n",
    "- In Supervised Machine Learning, target variable(output) is present.\n",
    "\n",
    "- In Unsupervised Machine Learning, target variable(output) is not present.\n",
    "\n",
    "- Regression -- Continuous Output\n",
    "\n",
    "- Classification -- Discrete Output\n",
    "\n",
    "Unsupervised machine learning is a type of machine learning where the model is trained on unlabeled data, meaning there are no predetermined labels or target values provided. The goal of unsupervised learning is to uncover patterns, relationships, or structures within the data without any prior knowledge or guidance.\n",
    "\n",
    "In unsupervised learning, the model learns to find inherent structures or clusters in the data based on the input features. This can be useful for tasks such as data exploration, dimensionality reduction, anomaly detection, and recommendation systems.\n",
    "\n",
    "The two main techniques commonly used in unsupervised learning are:\n",
    "\n",
    "1. Clustering: Clustering algorithms group similar data points together based on their proximity in the feature space. The goal is to identify natural groupings or clusters within the data. Some popular clustering algorithms include K-means clustering, hierarchical clustering, and DBSCAN (Density-Based Spatial Clustering of Applications with Noise).\n",
    "\n",
    "2. Dimensionality Reduction: Dimensionality reduction techniques aim to reduce the number of features in a dataset while preserving its essential structure and characteristics. This can help in visualizing high-dimensional data, removing noise, and improving the performance of downstream tasks. Principal Component Analysis (PCA) and t-SNE (t-Distributed Stochastic Neighbor Embedding) are commonly used dimensionality reduction algorithms.\n",
    "\n",
    "Unsupervised learning can also be combined with supervised learning to pretrain a model on unlabeled data (unsupervised pretraining) and then fine-tune it on labeled data (supervised learning). This approach, known as semi-supervised learning, can help in scenarios where labeled data is limited or expensive to obtain.\n",
    "\n",
    "It's important to note that unsupervised learning does not provide explicit answers or interpretations about the data since there are no labeled outputs to evaluate against. Instead, it relies on discovering meaningful patterns that can be further analyzed or used in downstream tasks.\n",
    "\n",
    "### **TYPES OF CLUSTERING**\n",
    "1. K-Means Clustering\n",
    "2. Hierachical Clustering\n",
    "3. DBScan Clustering"
   ]
  },
  {
   "attachments": {},
   "cell_type": "markdown",
   "metadata": {},
   "source": [
    "\n",
    "#### **1. K-MEANS CLUSTERING**\n",
    "\n",
    "K-means clustering is a popular unsupervised machine learning algorithm used for clustering analysis. It aims to partition a given dataset into K clusters, where K is a user-defined parameter representing the desired number of clusters.\n",
    "\n",
    "The algorithm works as follows:\n",
    "\n",
    "1. Initialization: Randomly select K points from the dataset as initial cluster centroids. These centroids will act as the representatives of the clusters.\n",
    "\n",
    "2. Assignment: Assign each data point to the nearest centroid based on a distance metric (usually Euclidean distance). Each data point belongs to the cluster whose centroid is closest to it.\n",
    "\n",
    "3. Update: Recalculate the centroids of the clusters by taking the mean of all the data points assigned to each cluster. The centroids represent the new centers of the clusters.\n",
    "\n",
    "4. Repeat: Iteratively perform steps 2 and 3 until convergence. Convergence occurs when the assignments of data points to clusters no longer change or when a specified number of iterations is reached.\n",
    "\n",
    "The final outcome of the K-means clustering algorithm is a set of K cluster centroids and a labeling of the data points into these clusters.\n",
    "\n",
    "K-means clustering has some key characteristics:\n",
    "\n",
    "- K-means is sensitive to the initial selection of centroids. Different initializations can lead to different final cluster assignments. To mitigate this, multiple random initializations are often performed, and the best clustering result is chosen based on a defined criterion, such as minimizing the sum of squared distances within clusters.\n",
    "\n",
    "- The algorithm assumes that the clusters are spherical and of similar size. It seeks to minimize the within-cluster sum of squared distances, also known as the inertia or the sum of squared errors (SSE) objective function.\n",
    "\n",
    "- K-means is computationally efficient and scales well to large datasets. However, it can struggle with high-dimensional or non-linear data.\n",
    "\n",
    "- It is important to pre-process the data appropriately before applying K-means. Standardizing the features (e.g., using z-score normalization) can help ensure that all features contribute equally to the distance calculation.\n",
    "\n",
    "K-means clustering has various applications, such as customer segmentation, image compression, document clustering, and anomaly detection. It provides a simple and interpretable way to identify clusters within data, but it does require the user to specify the number of clusters K in advance."
   ]
  },
  {
   "attachments": {},
   "cell_type": "markdown",
   "metadata": {},
   "source": [
    "#### **2.HIERACHICAL CLUSTERING**\n",
    "\n",
    "Hierarchical clustering is another popular unsupervised machine learning algorithm used for clustering analysis. Unlike K-means clustering, hierarchical clustering does not require the user to specify the number of clusters in advance. Instead, it builds a hierarchy of clusters by iteratively merging or splitting them based on a defined similarity or dissimilarity measure.\n",
    "\n",
    "There are two main types of hierarchical clustering:\n",
    "\n",
    "1. Agglomerative (bottom-up) clustering: It starts with each data point as an individual cluster and then merges the closest pairs of clusters at each step until a single cluster containing all the data points is formed. The merging decision is based on a distance metric, such as Euclidean distance or Manhattan distance, and various linkage criteria, including complete linkage, single linkage, and average linkage. Complete linkage considers the maximum distance between any two points from different clusters, single linkage considers the minimum distance, and average linkage considers the average distance.\n",
    "\n",
    "2. Divisive (top-down) clustering: It starts with a single cluster containing all the data points and then recursively divides the clusters into smaller clusters until each data point forms its own cluster. The splitting decision is based on the same distance metric and linkage criteria as in agglomerative clustering, but in the opposite direction.\n",
    "\n",
    "The output of hierarchical clustering is a dendrogram, which is a tree-like structure that represents the hierarchical relationship between clusters. The dendrogram can be visualized to determine the optimal number of clusters by observing the heights at which clusters merge or split. Cutting the dendrogram at a certain height allows us to obtain a specific number of clusters.\n",
    "\n",
    "Hierarchical clustering has some key characteristics:\n",
    "\n",
    "- It is a more flexible approach than K-means clustering as it does not require the pre-specification of the number of clusters. The number of clusters can be determined post-hoc based on the dendrogram.\n",
    "\n",
    "- Hierarchical clustering captures both global and local structure in the data. It can identify nested clusters or subclusters within larger clusters.\n",
    "\n",
    "- The main drawback of hierarchical clustering is its computational complexity. The time complexity is O(n^3), where n is the number of data points. This can make it less suitable for large datasets.\n",
    "\n",
    "- Similar to K-means clustering, it is important to preprocess the data appropriately before applying hierarchical clustering. Standardizing the features and dealing with outliers can influence the clustering results.\n",
    "\n",
    "Hierarchical clustering is used in various domains, including biology, social sciences, market research, and image analysis. It provides a hierarchical structure of clusters that can be analyzed at different levels of granularity, allowing for more nuanced insights into the data."
   ]
  },
  {
   "attachments": {},
   "cell_type": "markdown",
   "metadata": {},
   "source": [
    "**The main differences between K-means clustering and hierarchical clustering are as follows:**\n",
    "\n",
    "1. Number of clusters: In K-means clustering, the number of clusters K needs to be specified in advance, whereas hierarchical clustering does not require the pre-specification of the number of clusters. Hierarchical clustering builds a hierarchy of clusters, and the number of clusters can be determined post-hoc by cutting the dendrogram at a certain height.\n",
    "\n",
    "2. Approach: K-means clustering follows a partitioning approach where data points are assigned to one of the K clusters based on their proximity to the cluster centroids. Hierarchical clustering, on the other hand, follows either an agglomerative (bottom-up) or divisive (top-down) approach, where clusters are successively merged or split based on a defined distance or similarity measure.\n",
    "\n",
    "3. Cluster structure: K-means clustering aims to partition the data into non-overlapping clusters of similar size and shape. Each data point belongs to one and only one cluster. In hierarchical clustering, the cluster structure is more flexible. It can capture nested clusters or subclusters within larger clusters. Data points can belong to multiple levels of the hierarchy, allowing for more nuanced clustering interpretations.\n",
    "\n",
    "4. Computational complexity: K-means clustering is computationally efficient and scales well to large datasets. The time complexity is typically O(n * K * I * d), where n is the number of data points, K is the number of clusters, I is the number of iterations, and d is the number of dimensions. Hierarchical clustering, particularly the agglomerative approach, has a higher computational complexity of O(n^3), making it less suitable for large datasets.\n",
    "\n",
    "5. Interpretability: K-means clustering provides a clear assignment of data points to clusters, and each cluster is represented by its centroid. This makes the interpretation straightforward. Hierarchical clustering, with its dendrogram representation, offers a more detailed hierarchical structure of clusters. It allows for the analysis of clusters at different levels of granularity, providing more insights into the data.\n",
    "\n",
    "Choosing between K-means clustering and hierarchical clustering depends on the specific characteristics of the data and the objectives of the analysis. K-means is often preferred when the number of clusters is known or easily determined, and when efficiency is a concern. Hierarchical clustering is useful when exploring the hierarchical structure of the data, identifying nested clusters, or when the number of clusters is not well-defined in advance.\n",
    "\n",
    "<center>\n",
    "\n",
    "  |Dataset | Clustering | Types of Dataset | Clstering |\n",
    "  |--------|------------|------------------|-----------|\n",
    "  | Huge   | K-Means    | Numerical        | K-Means   |\n",
    "  | Small  | Hierachical| Variaty of Data  | Hierachical|\n",
    "\n",
    "  </center>"
   ]
  },
  {
   "attachments": {},
   "cell_type": "markdown",
   "metadata": {},
   "source": [
    "**K-Means Clustering**"
   ]
  },
  {
   "cell_type": "code",
   "execution_count": 81,
   "metadata": {},
   "outputs": [],
   "source": [
    "import pandas as pd\n",
    "import numpy as np\n",
    "import matplotlib.pyplot as plt\n",
    "from sklearn.datasets import make_blobs\n",
    "from sklearn.cluster import KMeans"
   ]
  },
  {
   "attachments": {},
   "cell_type": "markdown",
   "metadata": {},
   "source": [
    "*Dataset*"
   ]
  },
  {
   "cell_type": "code",
   "execution_count": 82,
   "metadata": {},
   "outputs": [],
   "source": [
    "X = np.array([[1,2], [1,4], [1,0], [10,2], [10,4], [10,0]])"
   ]
  },
  {
   "cell_type": "code",
   "execution_count": 83,
   "metadata": {},
   "outputs": [
    {
     "data": {
      "text/plain": [
       "array([[ 1,  2],\n",
       "       [ 1,  4],\n",
       "       [ 1,  0],\n",
       "       [10,  2],\n",
       "       [10,  4],\n",
       "       [10,  0]])"
      ]
     },
     "execution_count": 83,
     "metadata": {},
     "output_type": "execute_result"
    }
   ],
   "source": [
    "X"
   ]
  },
  {
   "cell_type": "code",
   "execution_count": 84,
   "metadata": {},
   "outputs": [],
   "source": [
    "kmeans = KMeans(n_clusters=2, random_state=0, n_init=\"auto\").fit(X)"
   ]
  },
  {
   "attachments": {},
   "cell_type": "markdown",
   "metadata": {},
   "source": [
    "- n_cluster -- Two Centroid/ Two Clusters"
   ]
  },
  {
   "cell_type": "code",
   "execution_count": 85,
   "metadata": {},
   "outputs": [
    {
     "data": {
      "text/plain": [
       "array([1, 1, 1, 0, 0, 0])"
      ]
     },
     "execution_count": 85,
     "metadata": {},
     "output_type": "execute_result"
    }
   ],
   "source": [
    "kmeans.labels_"
   ]
  },
  {
   "cell_type": "code",
   "execution_count": 86,
   "metadata": {},
   "outputs": [
    {
     "data": {
      "text/plain": [
       "array([1, 0])"
      ]
     },
     "execution_count": 86,
     "metadata": {},
     "output_type": "execute_result"
    }
   ],
   "source": [
    "kmeans.predict([[0,0], [12,3]])"
   ]
  },
  {
   "cell_type": "code",
   "execution_count": 87,
   "metadata": {},
   "outputs": [
    {
     "data": {
      "text/plain": [
       "array([[10.,  2.],\n",
       "       [ 1.,  2.]])"
      ]
     },
     "execution_count": 87,
     "metadata": {},
     "output_type": "execute_result"
    }
   ],
   "source": [
    "kmeans.cluster_centers_"
   ]
  },
  {
   "cell_type": "code",
   "execution_count": 88,
   "metadata": {},
   "outputs": [],
   "source": [
    "X1 = np.array([[1,2], [1,4], [1,0], [10,2], [10,4], [10,0], [100,110], [1000,1200]])"
   ]
  },
  {
   "cell_type": "code",
   "execution_count": 89,
   "metadata": {},
   "outputs": [],
   "source": [
    "kmeans1 = KMeans(n_clusters=4)"
   ]
  },
  {
   "cell_type": "code",
   "execution_count": 90,
   "metadata": {},
   "outputs": [
    {
     "name": "stderr",
     "output_type": "stream",
     "text": [
      "d:\\FSDS\\venv\\Lib\\site-packages\\sklearn\\cluster\\_kmeans.py:870: FutureWarning: The default value of `n_init` will change from 10 to 'auto' in 1.4. Set the value of `n_init` explicitly to suppress the warning\n",
      "  warnings.warn(\n"
     ]
    },
    {
     "data": {
      "text/html": [
       "<style>#sk-container-id-6 {color: black;background-color: white;}#sk-container-id-6 pre{padding: 0;}#sk-container-id-6 div.sk-toggleable {background-color: white;}#sk-container-id-6 label.sk-toggleable__label {cursor: pointer;display: block;width: 100%;margin-bottom: 0;padding: 0.3em;box-sizing: border-box;text-align: center;}#sk-container-id-6 label.sk-toggleable__label-arrow:before {content: \"▸\";float: left;margin-right: 0.25em;color: #696969;}#sk-container-id-6 label.sk-toggleable__label-arrow:hover:before {color: black;}#sk-container-id-6 div.sk-estimator:hover label.sk-toggleable__label-arrow:before {color: black;}#sk-container-id-6 div.sk-toggleable__content {max-height: 0;max-width: 0;overflow: hidden;text-align: left;background-color: #f0f8ff;}#sk-container-id-6 div.sk-toggleable__content pre {margin: 0.2em;color: black;border-radius: 0.25em;background-color: #f0f8ff;}#sk-container-id-6 input.sk-toggleable__control:checked~div.sk-toggleable__content {max-height: 200px;max-width: 100%;overflow: auto;}#sk-container-id-6 input.sk-toggleable__control:checked~label.sk-toggleable__label-arrow:before {content: \"▾\";}#sk-container-id-6 div.sk-estimator input.sk-toggleable__control:checked~label.sk-toggleable__label {background-color: #d4ebff;}#sk-container-id-6 div.sk-label input.sk-toggleable__control:checked~label.sk-toggleable__label {background-color: #d4ebff;}#sk-container-id-6 input.sk-hidden--visually {border: 0;clip: rect(1px 1px 1px 1px);clip: rect(1px, 1px, 1px, 1px);height: 1px;margin: -1px;overflow: hidden;padding: 0;position: absolute;width: 1px;}#sk-container-id-6 div.sk-estimator {font-family: monospace;background-color: #f0f8ff;border: 1px dotted black;border-radius: 0.25em;box-sizing: border-box;margin-bottom: 0.5em;}#sk-container-id-6 div.sk-estimator:hover {background-color: #d4ebff;}#sk-container-id-6 div.sk-parallel-item::after {content: \"\";width: 100%;border-bottom: 1px solid gray;flex-grow: 1;}#sk-container-id-6 div.sk-label:hover label.sk-toggleable__label {background-color: #d4ebff;}#sk-container-id-6 div.sk-serial::before {content: \"\";position: absolute;border-left: 1px solid gray;box-sizing: border-box;top: 0;bottom: 0;left: 50%;z-index: 0;}#sk-container-id-6 div.sk-serial {display: flex;flex-direction: column;align-items: center;background-color: white;padding-right: 0.2em;padding-left: 0.2em;position: relative;}#sk-container-id-6 div.sk-item {position: relative;z-index: 1;}#sk-container-id-6 div.sk-parallel {display: flex;align-items: stretch;justify-content: center;background-color: white;position: relative;}#sk-container-id-6 div.sk-item::before, #sk-container-id-6 div.sk-parallel-item::before {content: \"\";position: absolute;border-left: 1px solid gray;box-sizing: border-box;top: 0;bottom: 0;left: 50%;z-index: -1;}#sk-container-id-6 div.sk-parallel-item {display: flex;flex-direction: column;z-index: 1;position: relative;background-color: white;}#sk-container-id-6 div.sk-parallel-item:first-child::after {align-self: flex-end;width: 50%;}#sk-container-id-6 div.sk-parallel-item:last-child::after {align-self: flex-start;width: 50%;}#sk-container-id-6 div.sk-parallel-item:only-child::after {width: 0;}#sk-container-id-6 div.sk-dashed-wrapped {border: 1px dashed gray;margin: 0 0.4em 0.5em 0.4em;box-sizing: border-box;padding-bottom: 0.4em;background-color: white;}#sk-container-id-6 div.sk-label label {font-family: monospace;font-weight: bold;display: inline-block;line-height: 1.2em;}#sk-container-id-6 div.sk-label-container {text-align: center;}#sk-container-id-6 div.sk-container {/* jupyter's `normalize.less` sets `[hidden] { display: none; }` but bootstrap.min.css set `[hidden] { display: none !important; }` so we also need the `!important` here to be able to override the default hidden behavior on the sphinx rendered scikit-learn.org. See: https://github.com/scikit-learn/scikit-learn/issues/21755 */display: inline-block !important;position: relative;}#sk-container-id-6 div.sk-text-repr-fallback {display: none;}</style><div id=\"sk-container-id-6\" class=\"sk-top-container\"><div class=\"sk-text-repr-fallback\"><pre>KMeans(n_clusters=4)</pre><b>In a Jupyter environment, please rerun this cell to show the HTML representation or trust the notebook. <br />On GitHub, the HTML representation is unable to render, please try loading this page with nbviewer.org.</b></div><div class=\"sk-container\" hidden><div class=\"sk-item\"><div class=\"sk-estimator sk-toggleable\"><input class=\"sk-toggleable__control sk-hidden--visually\" id=\"sk-estimator-id-6\" type=\"checkbox\" checked><label for=\"sk-estimator-id-6\" class=\"sk-toggleable__label sk-toggleable__label-arrow\">KMeans</label><div class=\"sk-toggleable__content\"><pre>KMeans(n_clusters=4)</pre></div></div></div></div></div>"
      ],
      "text/plain": [
       "KMeans(n_clusters=4)"
      ]
     },
     "execution_count": 90,
     "metadata": {},
     "output_type": "execute_result"
    }
   ],
   "source": [
    "kmeans1.fit(X1)"
   ]
  },
  {
   "cell_type": "code",
   "execution_count": 91,
   "metadata": {},
   "outputs": [],
   "source": [
    "df = pd.DataFrame(X1)"
   ]
  },
  {
   "cell_type": "code",
   "execution_count": 92,
   "metadata": {},
   "outputs": [
    {
     "data": {
      "text/html": [
       "<div>\n",
       "<style scoped>\n",
       "    .dataframe tbody tr th:only-of-type {\n",
       "        vertical-align: middle;\n",
       "    }\n",
       "\n",
       "    .dataframe tbody tr th {\n",
       "        vertical-align: top;\n",
       "    }\n",
       "\n",
       "    .dataframe thead th {\n",
       "        text-align: right;\n",
       "    }\n",
       "</style>\n",
       "<table border=\"1\" class=\"dataframe\">\n",
       "  <thead>\n",
       "    <tr style=\"text-align: right;\">\n",
       "      <th></th>\n",
       "      <th>0</th>\n",
       "      <th>1</th>\n",
       "    </tr>\n",
       "  </thead>\n",
       "  <tbody>\n",
       "    <tr>\n",
       "      <th>0</th>\n",
       "      <td>1</td>\n",
       "      <td>2</td>\n",
       "    </tr>\n",
       "    <tr>\n",
       "      <th>1</th>\n",
       "      <td>1</td>\n",
       "      <td>4</td>\n",
       "    </tr>\n",
       "    <tr>\n",
       "      <th>2</th>\n",
       "      <td>1</td>\n",
       "      <td>0</td>\n",
       "    </tr>\n",
       "    <tr>\n",
       "      <th>3</th>\n",
       "      <td>10</td>\n",
       "      <td>2</td>\n",
       "    </tr>\n",
       "    <tr>\n",
       "      <th>4</th>\n",
       "      <td>10</td>\n",
       "      <td>4</td>\n",
       "    </tr>\n",
       "    <tr>\n",
       "      <th>5</th>\n",
       "      <td>10</td>\n",
       "      <td>0</td>\n",
       "    </tr>\n",
       "    <tr>\n",
       "      <th>6</th>\n",
       "      <td>100</td>\n",
       "      <td>110</td>\n",
       "    </tr>\n",
       "    <tr>\n",
       "      <th>7</th>\n",
       "      <td>1000</td>\n",
       "      <td>1200</td>\n",
       "    </tr>\n",
       "  </tbody>\n",
       "</table>\n",
       "</div>"
      ],
      "text/plain": [
       "      0     1\n",
       "0     1     2\n",
       "1     1     4\n",
       "2     1     0\n",
       "3    10     2\n",
       "4    10     4\n",
       "5    10     0\n",
       "6   100   110\n",
       "7  1000  1200"
      ]
     },
     "execution_count": 92,
     "metadata": {},
     "output_type": "execute_result"
    }
   ],
   "source": [
    "df"
   ]
  },
  {
   "cell_type": "code",
   "execution_count": 93,
   "metadata": {},
   "outputs": [],
   "source": [
    "df['label'] = pd.DataFrame(kmeans1.labels_)"
   ]
  },
  {
   "cell_type": "code",
   "execution_count": 94,
   "metadata": {},
   "outputs": [
    {
     "data": {
      "text/html": [
       "<div>\n",
       "<style scoped>\n",
       "    .dataframe tbody tr th:only-of-type {\n",
       "        vertical-align: middle;\n",
       "    }\n",
       "\n",
       "    .dataframe tbody tr th {\n",
       "        vertical-align: top;\n",
       "    }\n",
       "\n",
       "    .dataframe thead th {\n",
       "        text-align: right;\n",
       "    }\n",
       "</style>\n",
       "<table border=\"1\" class=\"dataframe\">\n",
       "  <thead>\n",
       "    <tr style=\"text-align: right;\">\n",
       "      <th></th>\n",
       "      <th>0</th>\n",
       "      <th>1</th>\n",
       "      <th>label</th>\n",
       "    </tr>\n",
       "  </thead>\n",
       "  <tbody>\n",
       "    <tr>\n",
       "      <th>0</th>\n",
       "      <td>1</td>\n",
       "      <td>2</td>\n",
       "      <td>0</td>\n",
       "    </tr>\n",
       "    <tr>\n",
       "      <th>1</th>\n",
       "      <td>1</td>\n",
       "      <td>4</td>\n",
       "      <td>0</td>\n",
       "    </tr>\n",
       "    <tr>\n",
       "      <th>2</th>\n",
       "      <td>1</td>\n",
       "      <td>0</td>\n",
       "      <td>0</td>\n",
       "    </tr>\n",
       "    <tr>\n",
       "      <th>3</th>\n",
       "      <td>10</td>\n",
       "      <td>2</td>\n",
       "      <td>3</td>\n",
       "    </tr>\n",
       "    <tr>\n",
       "      <th>4</th>\n",
       "      <td>10</td>\n",
       "      <td>4</td>\n",
       "      <td>3</td>\n",
       "    </tr>\n",
       "  </tbody>\n",
       "</table>\n",
       "</div>"
      ],
      "text/plain": [
       "    0  1  label\n",
       "0   1  2      0\n",
       "1   1  4      0\n",
       "2   1  0      0\n",
       "3  10  2      3\n",
       "4  10  4      3"
      ]
     },
     "execution_count": 94,
     "metadata": {},
     "output_type": "execute_result"
    }
   ],
   "source": [
    "df.head()"
   ]
  },
  {
   "cell_type": "code",
   "execution_count": 95,
   "metadata": {},
   "outputs": [
    {
     "data": {
      "text/html": [
       "<div>\n",
       "<style scoped>\n",
       "    .dataframe tbody tr th:only-of-type {\n",
       "        vertical-align: middle;\n",
       "    }\n",
       "\n",
       "    .dataframe tbody tr th {\n",
       "        vertical-align: top;\n",
       "    }\n",
       "\n",
       "    .dataframe thead th {\n",
       "        text-align: right;\n",
       "    }\n",
       "</style>\n",
       "<table border=\"1\" class=\"dataframe\">\n",
       "  <thead>\n",
       "    <tr style=\"text-align: right;\">\n",
       "      <th></th>\n",
       "      <th>0</th>\n",
       "      <th>1</th>\n",
       "      <th>label</th>\n",
       "    </tr>\n",
       "  </thead>\n",
       "  <tbody>\n",
       "    <tr>\n",
       "      <th>3</th>\n",
       "      <td>10</td>\n",
       "      <td>2</td>\n",
       "      <td>3</td>\n",
       "    </tr>\n",
       "    <tr>\n",
       "      <th>4</th>\n",
       "      <td>10</td>\n",
       "      <td>4</td>\n",
       "      <td>3</td>\n",
       "    </tr>\n",
       "    <tr>\n",
       "      <th>5</th>\n",
       "      <td>10</td>\n",
       "      <td>0</td>\n",
       "      <td>3</td>\n",
       "    </tr>\n",
       "  </tbody>\n",
       "</table>\n",
       "</div>"
      ],
      "text/plain": [
       "    0  1  label\n",
       "3  10  2      3\n",
       "4  10  4      3\n",
       "5  10  0      3"
      ]
     },
     "execution_count": 95,
     "metadata": {},
     "output_type": "execute_result"
    }
   ],
   "source": [
    "df[df['label']==3]"
   ]
  },
  {
   "cell_type": "code",
   "execution_count": 96,
   "metadata": {},
   "outputs": [
    {
     "data": {
      "text/plain": [
       "array([0, 3])"
      ]
     },
     "execution_count": 96,
     "metadata": {},
     "output_type": "execute_result"
    }
   ],
   "source": [
    "kmeans1.predict([[0,0], [12,3]])"
   ]
  },
  {
   "cell_type": "code",
   "execution_count": 97,
   "metadata": {},
   "outputs": [
    {
     "data": {
      "text/plain": [
       "array([[1.0e+00, 2.0e+00],\n",
       "       [1.0e+03, 1.2e+03],\n",
       "       [1.0e+02, 1.1e+02],\n",
       "       [1.0e+01, 2.0e+00]])"
      ]
     },
     "execution_count": 97,
     "metadata": {},
     "output_type": "execute_result"
    }
   ],
   "source": [
    "kmeans1.cluster_centers_"
   ]
  },
  {
   "cell_type": "code",
   "execution_count": 98,
   "metadata": {},
   "outputs": [],
   "source": [
    "X2, y = make_blobs(n_samples=1000, centers=3, n_features=2, random_state=42)"
   ]
  },
  {
   "cell_type": "code",
   "execution_count": 99,
   "metadata": {},
   "outputs": [
    {
     "data": {
      "text/plain": [
       "array([[-6.59633932, -7.13901457],\n",
       "       [-6.13753182, -6.58081701],\n",
       "       [ 5.19820575,  2.04917508],\n",
       "       ...,\n",
       "       [ 3.69047995,  4.60555175],\n",
       "       [ 4.03036663,  1.78619838],\n",
       "       [-7.44179522, -7.08933147]])"
      ]
     },
     "execution_count": 99,
     "metadata": {},
     "output_type": "execute_result"
    }
   ],
   "source": [
    "X2"
   ]
  },
  {
   "cell_type": "code",
   "execution_count": 100,
   "metadata": {},
   "outputs": [
    {
     "data": {
      "text/plain": [
       "array([2, 2, 1, 0, 0, 2, 1, 1, 1, 1, 0, 2, 0, 1, 1, 1, 0, 0, 0, 0, 1, 2,\n",
       "       2, 2, 1, 0, 0, 0, 1, 1, 2, 2, 1, 0, 0, 2, 2, 1, 2, 2, 0, 1, 0, 2,\n",
       "       0, 2, 0, 0, 2, 1, 2, 0, 1, 2, 0, 2, 0, 0, 0, 1, 1, 0, 2, 2, 0, 0,\n",
       "       2, 1, 1, 0, 2, 0, 1, 1, 1, 2, 1, 0, 0, 0, 1, 0, 0, 0, 1, 2, 1, 2,\n",
       "       0, 0, 0, 0, 1, 1, 2, 1, 2, 0, 1, 1, 1, 2, 2, 0, 2, 1, 1, 0, 1, 0,\n",
       "       2, 1, 1, 1, 0, 1, 2, 2, 1, 0, 0, 1, 2, 1, 2, 2, 1, 2, 1, 1, 0, 1,\n",
       "       1, 2, 0, 2, 0, 1, 1, 1, 0, 0, 2, 2, 2, 0, 1, 0, 0, 0, 0, 2, 1, 2,\n",
       "       0, 1, 0, 1, 0, 2, 1, 0, 0, 1, 0, 0, 1, 1, 2, 2, 1, 0, 0, 1, 0, 2,\n",
       "       1, 2, 1, 2, 0, 1, 0, 1, 0, 2, 0, 2, 0, 2, 1, 0, 1, 1, 0, 2, 1, 1,\n",
       "       1, 2, 0, 1, 0, 0, 1, 0, 1, 0, 0, 1, 1, 2, 2, 1, 1, 0, 2, 0, 2, 1,\n",
       "       2, 2, 1, 0, 2, 0, 0, 1, 2, 0, 0, 2, 0, 2, 1, 1, 2, 1, 2, 1, 2, 2,\n",
       "       2, 1, 2, 0, 1, 0, 1, 0, 1, 1, 2, 1, 0, 1, 0, 1, 1, 1, 1, 0, 2, 1,\n",
       "       2, 2, 1, 0, 0, 2, 1, 0, 1, 1, 0, 2, 0, 2, 2, 1, 2, 1, 2, 1, 1, 0,\n",
       "       0, 1, 0, 2, 2, 0, 1, 1, 2, 0, 1, 2, 2, 0, 2, 2, 1, 2, 0, 1, 2, 1,\n",
       "       2, 2, 2, 2, 2, 1, 2, 2, 1, 0, 2, 2, 1, 2, 2, 1, 2, 1, 0, 1, 0, 0,\n",
       "       1, 1, 2, 2, 2, 0, 2, 1, 2, 1, 2, 1, 1, 1, 0, 0, 2, 2, 0, 0, 0, 0,\n",
       "       0, 1, 0, 0, 1, 0, 0, 2, 1, 1, 1, 1, 2, 1, 2, 2, 2, 1, 1, 0, 0, 1,\n",
       "       0, 1, 0, 2, 1, 0, 2, 1, 2, 1, 1, 2, 0, 2, 1, 2, 1, 0, 2, 0, 2, 2,\n",
       "       2, 0, 1, 0, 0, 2, 0, 1, 0, 2, 1, 0, 0, 2, 1, 0, 2, 2, 2, 1, 2, 0,\n",
       "       2, 1, 0, 0, 0, 0, 0, 2, 1, 2, 1, 1, 0, 0, 2, 0, 2, 1, 2, 1, 2, 0,\n",
       "       2, 2, 2, 1, 0, 0, 1, 0, 2, 2, 2, 2, 0, 0, 2, 0, 1, 2, 1, 0, 1, 1,\n",
       "       0, 0, 1, 1, 1, 2, 1, 0, 2, 0, 0, 2, 2, 1, 2, 0, 1, 0, 2, 1, 2, 1,\n",
       "       1, 0, 1, 2, 0, 0, 0, 1, 0, 2, 0, 2, 1, 1, 2, 2, 2, 0, 2, 0, 0, 1,\n",
       "       0, 1, 0, 1, 0, 2, 1, 0, 2, 1, 2, 0, 0, 0, 0, 0, 0, 1, 2, 0, 1, 1,\n",
       "       1, 0, 0, 1, 0, 2, 1, 0, 0, 1, 1, 2, 2, 2, 2, 0, 2, 0, 0, 0, 2, 2,\n",
       "       2, 0, 0, 0, 0, 0, 2, 1, 0, 0, 0, 0, 0, 0, 2, 2, 1, 1, 0, 0, 1, 1,\n",
       "       2, 2, 0, 2, 2, 2, 1, 0, 2, 2, 2, 0, 2, 0, 2, 1, 1, 2, 2, 2, 2, 0,\n",
       "       1, 1, 0, 1, 0, 1, 1, 1, 1, 0, 2, 2, 1, 0, 2, 0, 0, 2, 0, 2, 2, 1,\n",
       "       2, 0, 0, 2, 1, 1, 0, 0, 2, 2, 1, 2, 1, 0, 1, 2, 2, 0, 0, 2, 0, 1,\n",
       "       2, 1, 2, 1, 0, 1, 2, 0, 0, 1, 2, 2, 1, 1, 2, 2, 1, 2, 0, 0, 1, 0,\n",
       "       1, 2, 0, 2, 1, 1, 0, 0, 2, 0, 1, 1, 2, 0, 2, 2, 2, 1, 2, 0, 1, 2,\n",
       "       1, 0, 1, 0, 1, 1, 0, 0, 2, 1, 0, 1, 0, 1, 1, 2, 0, 2, 0, 2, 1, 1,\n",
       "       1, 2, 1, 2, 1, 1, 2, 2, 0, 0, 2, 2, 0, 1, 2, 1, 0, 1, 1, 2, 0, 0,\n",
       "       2, 1, 2, 0, 0, 2, 1, 0, 1, 0, 1, 2, 1, 1, 2, 2, 2, 1, 1, 0, 0, 1,\n",
       "       1, 2, 1, 0, 2, 2, 2, 2, 2, 2, 2, 2, 2, 2, 1, 0, 1, 2, 0, 0, 0, 2,\n",
       "       1, 2, 1, 0, 1, 2, 0, 0, 1, 2, 1, 2, 0, 1, 2, 0, 2, 2, 1, 1, 2, 0,\n",
       "       2, 1, 0, 0, 0, 2, 1, 2, 2, 0, 2, 1, 0, 1, 1, 2, 0, 0, 0, 0, 0, 2,\n",
       "       0, 2, 2, 2, 2, 0, 1, 2, 2, 1, 0, 0, 1, 1, 2, 0, 1, 2, 0, 2, 1, 0,\n",
       "       0, 2, 1, 1, 0, 1, 1, 1, 0, 1, 2, 2, 0, 1, 2, 2, 2, 1, 2, 1, 2, 2,\n",
       "       1, 1, 0, 2, 0, 2, 2, 0, 2, 2, 2, 0, 2, 2, 1, 1, 2, 1, 1, 0, 0, 0,\n",
       "       0, 2, 2, 1, 1, 1, 2, 0, 1, 1, 1, 1, 1, 2, 0, 2, 2, 0, 1, 2, 2, 0,\n",
       "       1, 0, 0, 2, 0, 2, 0, 2, 0, 1, 1, 1, 2, 2, 0, 1, 1, 2, 2, 2, 1, 0,\n",
       "       1, 2, 1, 0, 0, 0, 2, 0, 0, 2, 1, 2, 2, 1, 0, 0, 2, 0, 1, 1, 1, 1,\n",
       "       1, 0, 0, 1, 1, 0, 0, 1, 0, 2, 0, 0, 2, 0, 1, 1, 2, 1, 2, 0, 2, 0,\n",
       "       2, 1, 0, 2, 1, 0, 1, 2, 1, 2, 0, 2, 1, 0, 0, 1, 2, 0, 0, 0, 1, 1,\n",
       "       0, 0, 1, 1, 1, 2, 0, 1, 1, 2])"
      ]
     },
     "execution_count": 100,
     "metadata": {},
     "output_type": "execute_result"
    }
   ],
   "source": [
    "y"
   ]
  },
  {
   "cell_type": "code",
   "execution_count": 101,
   "metadata": {},
   "outputs": [
    {
     "data": {
      "text/plain": [
       "<matplotlib.collections.PathCollection at 0x23493f41250>"
      ]
     },
     "execution_count": 101,
     "metadata": {},
     "output_type": "execute_result"
    },
    {
     "data": {
      "image/png": "[encoded data removed]",
      "text/plain": [
       "<Figure size 640x480 with 1 Axes>"
      ]
     },
     "metadata": {},
     "output_type": "display_data"
    }
   ],
   "source": [
    "plt.scatter(X2[:, 0], X2[:, 1])"
   ]
  },
  {
   "cell_type": "code",
   "execution_count": 102,
   "metadata": {},
   "outputs": [],
   "source": [
    "from sklearn.model_selection import train_test_split"
   ]
  },
  {
   "cell_type": "code",
   "execution_count": 103,
   "metadata": {},
   "outputs": [],
   "source": [
    "X2_train, X2_test, y_train, y_test = train_test_split(X2, y, test_size=.33, random_state=42)"
   ]
  },
  {
   "cell_type": "code",
   "execution_count": 104,
   "metadata": {},
   "outputs": [
    {
     "name": "stderr",
     "output_type": "stream",
     "text": [
      "d:\\FSDS\\venv\\Lib\\site-packages\\sklearn\\cluster\\_kmeans.py:870: FutureWarning: The default value of `n_init` will change from 10 to 'auto' in 1.4. Set the value of `n_init` explicitly to suppress the warning\n",
      "  warnings.warn(\n",
      "d:\\FSDS\\venv\\Lib\\site-packages\\sklearn\\cluster\\_kmeans.py:870: FutureWarning: The default value of `n_init` will change from 10 to 'auto' in 1.4. Set the value of `n_init` explicitly to suppress the warning\n",
      "  warnings.warn(\n",
      "d:\\FSDS\\venv\\Lib\\site-packages\\sklearn\\cluster\\_kmeans.py:870: FutureWarning: The default value of `n_init` will change from 10 to 'auto' in 1.4. Set the value of `n_init` explicitly to suppress the warning\n",
      "  warnings.warn(\n",
      "d:\\FSDS\\venv\\Lib\\site-packages\\sklearn\\cluster\\_kmeans.py:870: FutureWarning: The default value of `n_init` will change from 10 to 'auto' in 1.4. Set the value of `n_init` explicitly to suppress the warning\n",
      "  warnings.warn(\n",
      "d:\\FSDS\\venv\\Lib\\site-packages\\sklearn\\cluster\\_kmeans.py:870: FutureWarning: The default value of `n_init` will change from 10 to 'auto' in 1.4. Set the value of `n_init` explicitly to suppress the warning\n",
      "  warnings.warn(\n",
      "d:\\FSDS\\venv\\Lib\\site-packages\\sklearn\\cluster\\_kmeans.py:870: FutureWarning: The default value of `n_init` will change from 10 to 'auto' in 1.4. Set the value of `n_init` explicitly to suppress the warning\n",
      "  warnings.warn(\n",
      "d:\\FSDS\\venv\\Lib\\site-packages\\sklearn\\cluster\\_kmeans.py:870: FutureWarning: The default value of `n_init` will change from 10 to 'auto' in 1.4. Set the value of `n_init` explicitly to suppress the warning\n",
      "  warnings.warn(\n",
      "d:\\FSDS\\venv\\Lib\\site-packages\\sklearn\\cluster\\_kmeans.py:870: FutureWarning: The default value of `n_init` will change from 10 to 'auto' in 1.4. Set the value of `n_init` explicitly to suppress the warning\n",
      "  warnings.warn(\n",
      "d:\\FSDS\\venv\\Lib\\site-packages\\sklearn\\cluster\\_kmeans.py:870: FutureWarning: The default value of `n_init` will change from 10 to 'auto' in 1.4. Set the value of `n_init` explicitly to suppress the warning\n",
      "  warnings.warn(\n"
     ]
    }
   ],
   "source": [
    "WCSS = []\n",
    "\n",
    "for k in range(2, 11):\n",
    "    kmean = KMeans(n_clusters=k, init=\"k-means++\")\n",
    "    kmean.fit(X2_train)\n",
    "    WCSS.append(kmean.inertia_)\n"
   ]
  },
  {
   "cell_type": "code",
   "execution_count": 105,
   "metadata": {},
   "outputs": [
    {
     "data": {
      "text/plain": [
       "[12741.823357662124,\n",
       " 1329.7219815435353,\n",
       " 1162.8765361640767,\n",
       " 1006.1207175677908,\n",
       " 852.1949008637407,\n",
       " 751.9414214747034,\n",
       " 672.4607803535727,\n",
       " 596.6107793278519,\n",
       " 544.4837401832968]"
      ]
     },
     "execution_count": 105,
     "metadata": {},
     "output_type": "execute_result"
    }
   ],
   "source": [
    "WCSS"
   ]
  },
  {
   "cell_type": "code",
   "execution_count": 106,
   "metadata": {},
   "outputs": [
    {
     "data": {
      "image/png": "[encoded data removed]",
      "text/plain": [
       "<Figure size 640x480 with 1 Axes>"
      ]
     },
     "metadata": {},
     "output_type": "display_data"
    }
   ],
   "source": [
    "plt.plot(range(2,11), WCSS)\n",
    "plt.xticks()\n",
    "plt.xlabel(\"Number Of Clusters\")\n",
    "plt.ylabel(\"WCSS\")\n",
    "plt.show()"
   ]
  },
  {
   "cell_type": "code",
   "execution_count": 107,
   "metadata": {},
   "outputs": [],
   "source": [
    "kmean = KMeans(n_clusters=3, init=\"k-means++\")"
   ]
  },
  {
   "cell_type": "code",
   "execution_count": 108,
   "metadata": {},
   "outputs": [
    {
     "name": "stderr",
     "output_type": "stream",
     "text": [
      "d:\\FSDS\\venv\\Lib\\site-packages\\sklearn\\cluster\\_kmeans.py:870: FutureWarning: The default value of `n_init` will change from 10 to 'auto' in 1.4. Set the value of `n_init` explicitly to suppress the warning\n",
      "  warnings.warn(\n"
     ]
    },
    {
     "data": {
      "text/html": [
       "<style>#sk-container-id-7 {color: black;background-color: white;}#sk-container-id-7 pre{padding: 0;}#sk-container-id-7 div.sk-toggleable {background-color: white;}#sk-container-id-7 label.sk-toggleable__label {cursor: pointer;display: block;width: 100%;margin-bottom: 0;padding: 0.3em;box-sizing: border-box;text-align: center;}#sk-container-id-7 label.sk-toggleable__label-arrow:before {content: \"▸\";float: left;margin-right: 0.25em;color: #696969;}#sk-container-id-7 label.sk-toggleable__label-arrow:hover:before {color: black;}#sk-container-id-7 div.sk-estimator:hover label.sk-toggleable__label-arrow:before {color: black;}#sk-container-id-7 div.sk-toggleable__content {max-height: 0;max-width: 0;overflow: hidden;text-align: left;background-color: #f0f8ff;}#sk-container-id-7 div.sk-toggleable__content pre {margin: 0.2em;color: black;border-radius: 0.25em;background-color: #f0f8ff;}#sk-container-id-7 input.sk-toggleable__control:checked~div.sk-toggleable__content {max-height: 200px;max-width: 100%;overflow: auto;}#sk-container-id-7 input.sk-toggleable__control:checked~label.sk-toggleable__label-arrow:before {content: \"▾\";}#sk-container-id-7 div.sk-estimator input.sk-toggleable__control:checked~label.sk-toggleable__label {background-color: #d4ebff;}#sk-container-id-7 div.sk-label input.sk-toggleable__control:checked~label.sk-toggleable__label {background-color: #d4ebff;}#sk-container-id-7 input.sk-hidden--visually {border: 0;clip: rect(1px 1px 1px 1px);clip: rect(1px, 1px, 1px, 1px);height: 1px;margin: -1px;overflow: hidden;padding: 0;position: absolute;width: 1px;}#sk-container-id-7 div.sk-estimator {font-family: monospace;background-color: #f0f8ff;border: 1px dotted black;border-radius: 0.25em;box-sizing: border-box;margin-bottom: 0.5em;}#sk-container-id-7 div.sk-estimator:hover {background-color: #d4ebff;}#sk-container-id-7 div.sk-parallel-item::after {content: \"\";width: 100%;border-bottom: 1px solid gray;flex-grow: 1;}#sk-container-id-7 div.sk-label:hover label.sk-toggleable__label {background-color: #d4ebff;}#sk-container-id-7 div.sk-serial::before {content: \"\";position: absolute;border-left: 1px solid gray;box-sizing: border-box;top: 0;bottom: 0;left: 50%;z-index: 0;}#sk-container-id-7 div.sk-serial {display: flex;flex-direction: column;align-items: center;background-color: white;padding-right: 0.2em;padding-left: 0.2em;position: relative;}#sk-container-id-7 div.sk-item {position: relative;z-index: 1;}#sk-container-id-7 div.sk-parallel {display: flex;align-items: stretch;justify-content: center;background-color: white;position: relative;}#sk-container-id-7 div.sk-item::before, #sk-container-id-7 div.sk-parallel-item::before {content: \"\";position: absolute;border-left: 1px solid gray;box-sizing: border-box;top: 0;bottom: 0;left: 50%;z-index: -1;}#sk-container-id-7 div.sk-parallel-item {display: flex;flex-direction: column;z-index: 1;position: relative;background-color: white;}#sk-container-id-7 div.sk-parallel-item:first-child::after {align-self: flex-end;width: 50%;}#sk-container-id-7 div.sk-parallel-item:last-child::after {align-self: flex-start;width: 50%;}#sk-container-id-7 div.sk-parallel-item:only-child::after {width: 0;}#sk-container-id-7 div.sk-dashed-wrapped {border: 1px dashed gray;margin: 0 0.4em 0.5em 0.4em;box-sizing: border-box;padding-bottom: 0.4em;background-color: white;}#sk-container-id-7 div.sk-label label {font-family: monospace;font-weight: bold;display: inline-block;line-height: 1.2em;}#sk-container-id-7 div.sk-label-container {text-align: center;}#sk-container-id-7 div.sk-container {/* jupyter's `normalize.less` sets `[hidden] { display: none; }` but bootstrap.min.css set `[hidden] { display: none !important; }` so we also need the `!important` here to be able to override the default hidden behavior on the sphinx rendered scikit-learn.org. See: https://github.com/scikit-learn/scikit-learn/issues/21755 */display: inline-block !important;position: relative;}#sk-container-id-7 div.sk-text-repr-fallback {display: none;}</style><div id=\"sk-container-id-7\" class=\"sk-top-container\"><div class=\"sk-text-repr-fallback\"><pre>KMeans(n_clusters=3)</pre><b>In a Jupyter environment, please rerun this cell to show the HTML representation or trust the notebook. <br />On GitHub, the HTML representation is unable to render, please try loading this page with nbviewer.org.</b></div><div class=\"sk-container\" hidden><div class=\"sk-item\"><div class=\"sk-estimator sk-toggleable\"><input class=\"sk-toggleable__control sk-hidden--visually\" id=\"sk-estimator-id-7\" type=\"checkbox\" checked><label for=\"sk-estimator-id-7\" class=\"sk-toggleable__label sk-toggleable__label-arrow\">KMeans</label><div class=\"sk-toggleable__content\"><pre>KMeans(n_clusters=3)</pre></div></div></div></div></div>"
      ],
      "text/plain": [
       "KMeans(n_clusters=3)"
      ]
     },
     "execution_count": 108,
     "metadata": {},
     "output_type": "execute_result"
    }
   ],
   "source": [
    "kmean.fit(X2_train)"
   ]
  },
  {
   "cell_type": "code",
   "execution_count": 109,
   "metadata": {},
   "outputs": [],
   "source": [
    "y_labels = kmean.predict(X2_train)"
   ]
  },
  {
   "cell_type": "code",
   "execution_count": 110,
   "metadata": {},
   "outputs": [
    {
     "data": {
      "text/plain": [
       "<matplotlib.collections.PathCollection at 0x234b4544350>"
      ]
     },
     "execution_count": 110,
     "metadata": {},
     "output_type": "execute_result"
    },
    {
     "data": {
      "image/png": "[encoded data removed]",
      "text/plain": [
       "<Figure size 640x480 with 1 Axes>"
      ]
     },
     "metadata": {},
     "output_type": "display_data"
    }
   ],
   "source": [
    "plt.scatter(X2_train[:, 0], X2_train[:,1], c = y_labels)"
   ]
  },
  {
   "cell_type": "code",
   "execution_count": 111,
   "metadata": {},
   "outputs": [
    {
     "name": "stdout",
     "output_type": "stream",
     "text": [
      "Requirement already satisfied: kneed in d:\\fsds\\venv\\lib\\site-packages (0.8.3)\n",
      "Requirement already satisfied: numpy>=1.14.2 in d:\\fsds\\venv\\lib\\site-packages (from kneed) (1.24.3)\n",
      "Requirement already satisfied: scipy>=1.0.0 in d:\\fsds\\venv\\lib\\site-packages (from kneed) (1.10.1)\n"
     ]
    }
   ],
   "source": [
    "!pip install kneed"
   ]
  },
  {
   "cell_type": "code",
   "execution_count": 112,
   "metadata": {},
   "outputs": [],
   "source": [
    "from kneed import KneeLocator"
   ]
  },
  {
   "cell_type": "code",
   "execution_count": 113,
   "metadata": {},
   "outputs": [],
   "source": [
    "k = KneeLocator(range(2,11), WCSS, curve = 'convex', direction='decreasing')"
   ]
  },
  {
   "cell_type": "code",
   "execution_count": 114,
   "metadata": {},
   "outputs": [
    {
     "data": {
      "text/plain": [
       "3"
      ]
     },
     "execution_count": 114,
     "metadata": {},
     "output_type": "execute_result"
    }
   ],
   "source": [
    "k.elbow"
   ]
  },
  {
   "cell_type": "code",
   "execution_count": 115,
   "metadata": {},
   "outputs": [],
   "source": [
    "from sklearn.metrics import silhouette_score"
   ]
  },
  {
   "cell_type": "code",
   "execution_count": 116,
   "metadata": {},
   "outputs": [
    {
     "name": "stderr",
     "output_type": "stream",
     "text": [
      "d:\\FSDS\\venv\\Lib\\site-packages\\sklearn\\cluster\\_kmeans.py:870: FutureWarning: The default value of `n_init` will change from 10 to 'auto' in 1.4. Set the value of `n_init` explicitly to suppress the warning\n",
      "  warnings.warn(\n",
      "d:\\FSDS\\venv\\Lib\\site-packages\\sklearn\\cluster\\_kmeans.py:870: FutureWarning: The default value of `n_init` will change from 10 to 'auto' in 1.4. Set the value of `n_init` explicitly to suppress the warning\n",
      "  warnings.warn(\n",
      "d:\\FSDS\\venv\\Lib\\site-packages\\sklearn\\cluster\\_kmeans.py:870: FutureWarning: The default value of `n_init` will change from 10 to 'auto' in 1.4. Set the value of `n_init` explicitly to suppress the warning\n",
      "  warnings.warn(\n",
      "d:\\FSDS\\venv\\Lib\\site-packages\\sklearn\\cluster\\_kmeans.py:870: FutureWarning: The default value of `n_init` will change from 10 to 'auto' in 1.4. Set the value of `n_init` explicitly to suppress the warning\n",
      "  warnings.warn(\n",
      "d:\\FSDS\\venv\\Lib\\site-packages\\sklearn\\cluster\\_kmeans.py:870: FutureWarning: The default value of `n_init` will change from 10 to 'auto' in 1.4. Set the value of `n_init` explicitly to suppress the warning\n",
      "  warnings.warn(\n",
      "d:\\FSDS\\venv\\Lib\\site-packages\\sklearn\\cluster\\_kmeans.py:870: FutureWarning: The default value of `n_init` will change from 10 to 'auto' in 1.4. Set the value of `n_init` explicitly to suppress the warning\n",
      "  warnings.warn(\n",
      "d:\\FSDS\\venv\\Lib\\site-packages\\sklearn\\cluster\\_kmeans.py:870: FutureWarning: The default value of `n_init` will change from 10 to 'auto' in 1.4. Set the value of `n_init` explicitly to suppress the warning\n",
      "  warnings.warn(\n",
      "d:\\FSDS\\venv\\Lib\\site-packages\\sklearn\\cluster\\_kmeans.py:870: FutureWarning: The default value of `n_init` will change from 10 to 'auto' in 1.4. Set the value of `n_init` explicitly to suppress the warning\n",
      "  warnings.warn(\n",
      "d:\\FSDS\\venv\\Lib\\site-packages\\sklearn\\cluster\\_kmeans.py:870: FutureWarning: The default value of `n_init` will change from 10 to 'auto' in 1.4. Set the value of `n_init` explicitly to suppress the warning\n",
      "  warnings.warn(\n"
     ]
    }
   ],
   "source": [
    "silhouette_score_coff = []\n",
    "\n",
    "for k in range(2,11):\n",
    "    kmean = KMeans(n_clusters=k, init=\"k-means++\")\n",
    "    kmean.fit(X2_train)\n",
    "    score = silhouette_score(X2_train, kmean.labels_)\n",
    "    silhouette_score_coff.append(score)"
   ]
  },
  {
   "cell_type": "code",
   "execution_count": 117,
   "metadata": {},
   "outputs": [
    {
     "data": {
      "text/plain": [
       "[0.7024009416893275,\n",
       " 0.8417121581954964,\n",
       " 0.6650563830926687,\n",
       " 0.4871402076270035,\n",
       " 0.3337970621206932,\n",
       " 0.33599840401838393,\n",
       " 0.3314045939425825,\n",
       " 0.33169068727508505,\n",
       " 0.32822686560793235]"
      ]
     },
     "execution_count": 117,
     "metadata": {},
     "output_type": "execute_result"
    }
   ],
   "source": [
    "silhouette_score_coff"
   ]
  },
  {
   "cell_type": "code",
   "execution_count": 118,
   "metadata": {},
   "outputs": [
    {
     "data": {
      "image/png": "[encoded data removed]",
      "text/plain": [
       "<Figure size 640x480 with 1 Axes>"
      ]
     },
     "metadata": {},
     "output_type": "display_data"
    }
   ],
   "source": [
    "plt.plot(range(2,11), silhouette_score_coff)\n",
    "plt.xticks(range(2,11))\n",
    "plt.xlabel('Number of Clusters')\n",
    "plt.ylabel('silhouette_score')\n",
    "plt.show()"
   ]
  },
  {
   "cell_type": "code",
   "execution_count": null,
   "metadata": {},
   "outputs": [],
   "source": []
  }
 ],
 "metadata": {
  "kernelspec": {
   "display_name": "Python 3",
   "language": "python",
   "name": "python3"
  },
  "language_info": {
   "codemirror_mode": {
    "name": "ipython",
    "version": 3
   },
   "file_extension": ".py",
   "mimetype": "text/x-python",
   "name": "python",
   "nbconvert_exporter": "python",
   "pygments_lexer": "ipython3",
   "version": "3.11.0"
  },
  "orig_nbformat": 4
 },
 "nbformat": 4,
 "nbformat_minor": 2
}
